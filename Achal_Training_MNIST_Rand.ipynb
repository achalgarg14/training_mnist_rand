{
  "nbformat": 4,
  "nbformat_minor": 0,
  "metadata": {
    "colab": {
      "provenance": [],
      "collapsed_sections": [
        "E_CS8kKk8YdR",
        "92ERBQSi8czO",
        "radl0KH0zp0X",
        "Cpwkq-va4M6A",
        "ouL6xxFmGGTT",
        "DrCj5tolONTT",
        "6XH8sjtxOkCF",
        "GvXX0C4IPmoG"
      ],
      "mount_file_id": "1m6oEN3RCsPgE5tr_hk7GjaR9QziOri5k",
      "authorship_tag": "ABX9TyPYIJ4C3AJnEuDKmsgRG3k2",
      "include_colab_link": true
    },
    "kernelspec": {
      "name": "python3",
      "display_name": "Python 3"
    },
    "language_info": {
      "name": "python"
    },
    "accelerator": "GPU",
    "gpuClass": "standard",
    "widgets": {
      "application/vnd.jupyter.widget-state+json": {
        "45f830e389c141d198f8e3e03f0e7abc": {
          "model_module": "@jupyter-widgets/controls",
          "model_name": "HBoxModel",
          "model_module_version": "1.5.0",
          "state": {
            "_dom_classes": [],
            "_model_module": "@jupyter-widgets/controls",
            "_model_module_version": "1.5.0",
            "_model_name": "HBoxModel",
            "_view_count": null,
            "_view_module": "@jupyter-widgets/controls",
            "_view_module_version": "1.5.0",
            "_view_name": "HBoxView",
            "box_style": "",
            "children": [
              "IPY_MODEL_dae9ba538e9a45b39270202dfb3bf59d",
              "IPY_MODEL_273c48f472964a639fb1e5e1594b0a91",
              "IPY_MODEL_cdc7f96cdaf3430daf0a1c97840f35ec"
            ],
            "layout": "IPY_MODEL_3e30deb733304f159ef3c4cf2c4c9181"
          }
        },
        "dae9ba538e9a45b39270202dfb3bf59d": {
          "model_module": "@jupyter-widgets/controls",
          "model_name": "HTMLModel",
          "model_module_version": "1.5.0",
          "state": {
            "_dom_classes": [],
            "_model_module": "@jupyter-widgets/controls",
            "_model_module_version": "1.5.0",
            "_model_name": "HTMLModel",
            "_view_count": null,
            "_view_module": "@jupyter-widgets/controls",
            "_view_module_version": "1.5.0",
            "_view_name": "HTMLView",
            "description": "",
            "description_tooltip": null,
            "layout": "IPY_MODEL_5f76cb2ca21c4be997ee92920a9aba8d",
            "placeholder": "​",
            "style": "IPY_MODEL_f82eb4aeecb14a86aebd7b20783d5427",
            "value": "100%"
          }
        },
        "273c48f472964a639fb1e5e1594b0a91": {
          "model_module": "@jupyter-widgets/controls",
          "model_name": "FloatProgressModel",
          "model_module_version": "1.5.0",
          "state": {
            "_dom_classes": [],
            "_model_module": "@jupyter-widgets/controls",
            "_model_module_version": "1.5.0",
            "_model_name": "FloatProgressModel",
            "_view_count": null,
            "_view_module": "@jupyter-widgets/controls",
            "_view_module_version": "1.5.0",
            "_view_name": "ProgressView",
            "bar_style": "success",
            "description": "",
            "description_tooltip": null,
            "layout": "IPY_MODEL_9c8a6025ff2a4e14be0d2429617d3f8a",
            "max": 9912422,
            "min": 0,
            "orientation": "horizontal",
            "style": "IPY_MODEL_bfa1a58bada642579102cd50eca96d9d",
            "value": 9912422
          }
        },
        "cdc7f96cdaf3430daf0a1c97840f35ec": {
          "model_module": "@jupyter-widgets/controls",
          "model_name": "HTMLModel",
          "model_module_version": "1.5.0",
          "state": {
            "_dom_classes": [],
            "_model_module": "@jupyter-widgets/controls",
            "_model_module_version": "1.5.0",
            "_model_name": "HTMLModel",
            "_view_count": null,
            "_view_module": "@jupyter-widgets/controls",
            "_view_module_version": "1.5.0",
            "_view_name": "HTMLView",
            "description": "",
            "description_tooltip": null,
            "layout": "IPY_MODEL_3c976e9fe83549b98f77335ee3f30c82",
            "placeholder": "​",
            "style": "IPY_MODEL_a8aaa621797645daa89f37281ffc2a9b",
            "value": " 9912422/9912422 [00:00&lt;00:00, 106418564.62it/s]"
          }
        },
        "3e30deb733304f159ef3c4cf2c4c9181": {
          "model_module": "@jupyter-widgets/base",
          "model_name": "LayoutModel",
          "model_module_version": "1.2.0",
          "state": {
            "_model_module": "@jupyter-widgets/base",
            "_model_module_version": "1.2.0",
            "_model_name": "LayoutModel",
            "_view_count": null,
            "_view_module": "@jupyter-widgets/base",
            "_view_module_version": "1.2.0",
            "_view_name": "LayoutView",
            "align_content": null,
            "align_items": null,
            "align_self": null,
            "border": null,
            "bottom": null,
            "display": null,
            "flex": null,
            "flex_flow": null,
            "grid_area": null,
            "grid_auto_columns": null,
            "grid_auto_flow": null,
            "grid_auto_rows": null,
            "grid_column": null,
            "grid_gap": null,
            "grid_row": null,
            "grid_template_areas": null,
            "grid_template_columns": null,
            "grid_template_rows": null,
            "height": null,
            "justify_content": null,
            "justify_items": null,
            "left": null,
            "margin": null,
            "max_height": null,
            "max_width": null,
            "min_height": null,
            "min_width": null,
            "object_fit": null,
            "object_position": null,
            "order": null,
            "overflow": null,
            "overflow_x": null,
            "overflow_y": null,
            "padding": null,
            "right": null,
            "top": null,
            "visibility": null,
            "width": null
          }
        },
        "5f76cb2ca21c4be997ee92920a9aba8d": {
          "model_module": "@jupyter-widgets/base",
          "model_name": "LayoutModel",
          "model_module_version": "1.2.0",
          "state": {
            "_model_module": "@jupyter-widgets/base",
            "_model_module_version": "1.2.0",
            "_model_name": "LayoutModel",
            "_view_count": null,
            "_view_module": "@jupyter-widgets/base",
            "_view_module_version": "1.2.0",
            "_view_name": "LayoutView",
            "align_content": null,
            "align_items": null,
            "align_self": null,
            "border": null,
            "bottom": null,
            "display": null,
            "flex": null,
            "flex_flow": null,
            "grid_area": null,
            "grid_auto_columns": null,
            "grid_auto_flow": null,
            "grid_auto_rows": null,
            "grid_column": null,
            "grid_gap": null,
            "grid_row": null,
            "grid_template_areas": null,
            "grid_template_columns": null,
            "grid_template_rows": null,
            "height": null,
            "justify_content": null,
            "justify_items": null,
            "left": null,
            "margin": null,
            "max_height": null,
            "max_width": null,
            "min_height": null,
            "min_width": null,
            "object_fit": null,
            "object_position": null,
            "order": null,
            "overflow": null,
            "overflow_x": null,
            "overflow_y": null,
            "padding": null,
            "right": null,
            "top": null,
            "visibility": null,
            "width": null
          }
        },
        "f82eb4aeecb14a86aebd7b20783d5427": {
          "model_module": "@jupyter-widgets/controls",
          "model_name": "DescriptionStyleModel",
          "model_module_version": "1.5.0",
          "state": {
            "_model_module": "@jupyter-widgets/controls",
            "_model_module_version": "1.5.0",
            "_model_name": "DescriptionStyleModel",
            "_view_count": null,
            "_view_module": "@jupyter-widgets/base",
            "_view_module_version": "1.2.0",
            "_view_name": "StyleView",
            "description_width": ""
          }
        },
        "9c8a6025ff2a4e14be0d2429617d3f8a": {
          "model_module": "@jupyter-widgets/base",
          "model_name": "LayoutModel",
          "model_module_version": "1.2.0",
          "state": {
            "_model_module": "@jupyter-widgets/base",
            "_model_module_version": "1.2.0",
            "_model_name": "LayoutModel",
            "_view_count": null,
            "_view_module": "@jupyter-widgets/base",
            "_view_module_version": "1.2.0",
            "_view_name": "LayoutView",
            "align_content": null,
            "align_items": null,
            "align_self": null,
            "border": null,
            "bottom": null,
            "display": null,
            "flex": null,
            "flex_flow": null,
            "grid_area": null,
            "grid_auto_columns": null,
            "grid_auto_flow": null,
            "grid_auto_rows": null,
            "grid_column": null,
            "grid_gap": null,
            "grid_row": null,
            "grid_template_areas": null,
            "grid_template_columns": null,
            "grid_template_rows": null,
            "height": null,
            "justify_content": null,
            "justify_items": null,
            "left": null,
            "margin": null,
            "max_height": null,
            "max_width": null,
            "min_height": null,
            "min_width": null,
            "object_fit": null,
            "object_position": null,
            "order": null,
            "overflow": null,
            "overflow_x": null,
            "overflow_y": null,
            "padding": null,
            "right": null,
            "top": null,
            "visibility": null,
            "width": null
          }
        },
        "bfa1a58bada642579102cd50eca96d9d": {
          "model_module": "@jupyter-widgets/controls",
          "model_name": "ProgressStyleModel",
          "model_module_version": "1.5.0",
          "state": {
            "_model_module": "@jupyter-widgets/controls",
            "_model_module_version": "1.5.0",
            "_model_name": "ProgressStyleModel",
            "_view_count": null,
            "_view_module": "@jupyter-widgets/base",
            "_view_module_version": "1.2.0",
            "_view_name": "StyleView",
            "bar_color": null,
            "description_width": ""
          }
        },
        "3c976e9fe83549b98f77335ee3f30c82": {
          "model_module": "@jupyter-widgets/base",
          "model_name": "LayoutModel",
          "model_module_version": "1.2.0",
          "state": {
            "_model_module": "@jupyter-widgets/base",
            "_model_module_version": "1.2.0",
            "_model_name": "LayoutModel",
            "_view_count": null,
            "_view_module": "@jupyter-widgets/base",
            "_view_module_version": "1.2.0",
            "_view_name": "LayoutView",
            "align_content": null,
            "align_items": null,
            "align_self": null,
            "border": null,
            "bottom": null,
            "display": null,
            "flex": null,
            "flex_flow": null,
            "grid_area": null,
            "grid_auto_columns": null,
            "grid_auto_flow": null,
            "grid_auto_rows": null,
            "grid_column": null,
            "grid_gap": null,
            "grid_row": null,
            "grid_template_areas": null,
            "grid_template_columns": null,
            "grid_template_rows": null,
            "height": null,
            "justify_content": null,
            "justify_items": null,
            "left": null,
            "margin": null,
            "max_height": null,
            "max_width": null,
            "min_height": null,
            "min_width": null,
            "object_fit": null,
            "object_position": null,
            "order": null,
            "overflow": null,
            "overflow_x": null,
            "overflow_y": null,
            "padding": null,
            "right": null,
            "top": null,
            "visibility": null,
            "width": null
          }
        },
        "a8aaa621797645daa89f37281ffc2a9b": {
          "model_module": "@jupyter-widgets/controls",
          "model_name": "DescriptionStyleModel",
          "model_module_version": "1.5.0",
          "state": {
            "_model_module": "@jupyter-widgets/controls",
            "_model_module_version": "1.5.0",
            "_model_name": "DescriptionStyleModel",
            "_view_count": null,
            "_view_module": "@jupyter-widgets/base",
            "_view_module_version": "1.2.0",
            "_view_name": "StyleView",
            "description_width": ""
          }
        },
        "bdece011aff74e7eabe5925b9aa3c4c3": {
          "model_module": "@jupyter-widgets/controls",
          "model_name": "HBoxModel",
          "model_module_version": "1.5.0",
          "state": {
            "_dom_classes": [],
            "_model_module": "@jupyter-widgets/controls",
            "_model_module_version": "1.5.0",
            "_model_name": "HBoxModel",
            "_view_count": null,
            "_view_module": "@jupyter-widgets/controls",
            "_view_module_version": "1.5.0",
            "_view_name": "HBoxView",
            "box_style": "",
            "children": [
              "IPY_MODEL_3f6d5f09112343658e055a4161e72cb2",
              "IPY_MODEL_51c3c40771724bb8bc4d01bff7320cf2",
              "IPY_MODEL_e8f11874ba4c458eaa60efac9fdd1b12"
            ],
            "layout": "IPY_MODEL_a4338d1cbe0449248b17e86a8bfcee44"
          }
        },
        "3f6d5f09112343658e055a4161e72cb2": {
          "model_module": "@jupyter-widgets/controls",
          "model_name": "HTMLModel",
          "model_module_version": "1.5.0",
          "state": {
            "_dom_classes": [],
            "_model_module": "@jupyter-widgets/controls",
            "_model_module_version": "1.5.0",
            "_model_name": "HTMLModel",
            "_view_count": null,
            "_view_module": "@jupyter-widgets/controls",
            "_view_module_version": "1.5.0",
            "_view_name": "HTMLView",
            "description": "",
            "description_tooltip": null,
            "layout": "IPY_MODEL_55210d73b9e346d28c24e6f5929ebe1e",
            "placeholder": "​",
            "style": "IPY_MODEL_622df19615f7428a896ca1297a41ca9f",
            "value": "100%"
          }
        },
        "51c3c40771724bb8bc4d01bff7320cf2": {
          "model_module": "@jupyter-widgets/controls",
          "model_name": "FloatProgressModel",
          "model_module_version": "1.5.0",
          "state": {
            "_dom_classes": [],
            "_model_module": "@jupyter-widgets/controls",
            "_model_module_version": "1.5.0",
            "_model_name": "FloatProgressModel",
            "_view_count": null,
            "_view_module": "@jupyter-widgets/controls",
            "_view_module_version": "1.5.0",
            "_view_name": "ProgressView",
            "bar_style": "success",
            "description": "",
            "description_tooltip": null,
            "layout": "IPY_MODEL_56f16e824d2c4ea2945f57f80d2c54ab",
            "max": 28881,
            "min": 0,
            "orientation": "horizontal",
            "style": "IPY_MODEL_7b3f013fdc954b38adcedc9395da092a",
            "value": 28881
          }
        },
        "e8f11874ba4c458eaa60efac9fdd1b12": {
          "model_module": "@jupyter-widgets/controls",
          "model_name": "HTMLModel",
          "model_module_version": "1.5.0",
          "state": {
            "_dom_classes": [],
            "_model_module": "@jupyter-widgets/controls",
            "_model_module_version": "1.5.0",
            "_model_name": "HTMLModel",
            "_view_count": null,
            "_view_module": "@jupyter-widgets/controls",
            "_view_module_version": "1.5.0",
            "_view_name": "HTMLView",
            "description": "",
            "description_tooltip": null,
            "layout": "IPY_MODEL_b6b53c39b03c429491426c538957bc93",
            "placeholder": "​",
            "style": "IPY_MODEL_1cc9cf41fb6d49619611104e78c2aa27",
            "value": " 28881/28881 [00:00&lt;00:00, 1331834.71it/s]"
          }
        },
        "a4338d1cbe0449248b17e86a8bfcee44": {
          "model_module": "@jupyter-widgets/base",
          "model_name": "LayoutModel",
          "model_module_version": "1.2.0",
          "state": {
            "_model_module": "@jupyter-widgets/base",
            "_model_module_version": "1.2.0",
            "_model_name": "LayoutModel",
            "_view_count": null,
            "_view_module": "@jupyter-widgets/base",
            "_view_module_version": "1.2.0",
            "_view_name": "LayoutView",
            "align_content": null,
            "align_items": null,
            "align_self": null,
            "border": null,
            "bottom": null,
            "display": null,
            "flex": null,
            "flex_flow": null,
            "grid_area": null,
            "grid_auto_columns": null,
            "grid_auto_flow": null,
            "grid_auto_rows": null,
            "grid_column": null,
            "grid_gap": null,
            "grid_row": null,
            "grid_template_areas": null,
            "grid_template_columns": null,
            "grid_template_rows": null,
            "height": null,
            "justify_content": null,
            "justify_items": null,
            "left": null,
            "margin": null,
            "max_height": null,
            "max_width": null,
            "min_height": null,
            "min_width": null,
            "object_fit": null,
            "object_position": null,
            "order": null,
            "overflow": null,
            "overflow_x": null,
            "overflow_y": null,
            "padding": null,
            "right": null,
            "top": null,
            "visibility": null,
            "width": null
          }
        },
        "55210d73b9e346d28c24e6f5929ebe1e": {
          "model_module": "@jupyter-widgets/base",
          "model_name": "LayoutModel",
          "model_module_version": "1.2.0",
          "state": {
            "_model_module": "@jupyter-widgets/base",
            "_model_module_version": "1.2.0",
            "_model_name": "LayoutModel",
            "_view_count": null,
            "_view_module": "@jupyter-widgets/base",
            "_view_module_version": "1.2.0",
            "_view_name": "LayoutView",
            "align_content": null,
            "align_items": null,
            "align_self": null,
            "border": null,
            "bottom": null,
            "display": null,
            "flex": null,
            "flex_flow": null,
            "grid_area": null,
            "grid_auto_columns": null,
            "grid_auto_flow": null,
            "grid_auto_rows": null,
            "grid_column": null,
            "grid_gap": null,
            "grid_row": null,
            "grid_template_areas": null,
            "grid_template_columns": null,
            "grid_template_rows": null,
            "height": null,
            "justify_content": null,
            "justify_items": null,
            "left": null,
            "margin": null,
            "max_height": null,
            "max_width": null,
            "min_height": null,
            "min_width": null,
            "object_fit": null,
            "object_position": null,
            "order": null,
            "overflow": null,
            "overflow_x": null,
            "overflow_y": null,
            "padding": null,
            "right": null,
            "top": null,
            "visibility": null,
            "width": null
          }
        },
        "622df19615f7428a896ca1297a41ca9f": {
          "model_module": "@jupyter-widgets/controls",
          "model_name": "DescriptionStyleModel",
          "model_module_version": "1.5.0",
          "state": {
            "_model_module": "@jupyter-widgets/controls",
            "_model_module_version": "1.5.0",
            "_model_name": "DescriptionStyleModel",
            "_view_count": null,
            "_view_module": "@jupyter-widgets/base",
            "_view_module_version": "1.2.0",
            "_view_name": "StyleView",
            "description_width": ""
          }
        },
        "56f16e824d2c4ea2945f57f80d2c54ab": {
          "model_module": "@jupyter-widgets/base",
          "model_name": "LayoutModel",
          "model_module_version": "1.2.0",
          "state": {
            "_model_module": "@jupyter-widgets/base",
            "_model_module_version": "1.2.0",
            "_model_name": "LayoutModel",
            "_view_count": null,
            "_view_module": "@jupyter-widgets/base",
            "_view_module_version": "1.2.0",
            "_view_name": "LayoutView",
            "align_content": null,
            "align_items": null,
            "align_self": null,
            "border": null,
            "bottom": null,
            "display": null,
            "flex": null,
            "flex_flow": null,
            "grid_area": null,
            "grid_auto_columns": null,
            "grid_auto_flow": null,
            "grid_auto_rows": null,
            "grid_column": null,
            "grid_gap": null,
            "grid_row": null,
            "grid_template_areas": null,
            "grid_template_columns": null,
            "grid_template_rows": null,
            "height": null,
            "justify_content": null,
            "justify_items": null,
            "left": null,
            "margin": null,
            "max_height": null,
            "max_width": null,
            "min_height": null,
            "min_width": null,
            "object_fit": null,
            "object_position": null,
            "order": null,
            "overflow": null,
            "overflow_x": null,
            "overflow_y": null,
            "padding": null,
            "right": null,
            "top": null,
            "visibility": null,
            "width": null
          }
        },
        "7b3f013fdc954b38adcedc9395da092a": {
          "model_module": "@jupyter-widgets/controls",
          "model_name": "ProgressStyleModel",
          "model_module_version": "1.5.0",
          "state": {
            "_model_module": "@jupyter-widgets/controls",
            "_model_module_version": "1.5.0",
            "_model_name": "ProgressStyleModel",
            "_view_count": null,
            "_view_module": "@jupyter-widgets/base",
            "_view_module_version": "1.2.0",
            "_view_name": "StyleView",
            "bar_color": null,
            "description_width": ""
          }
        },
        "b6b53c39b03c429491426c538957bc93": {
          "model_module": "@jupyter-widgets/base",
          "model_name": "LayoutModel",
          "model_module_version": "1.2.0",
          "state": {
            "_model_module": "@jupyter-widgets/base",
            "_model_module_version": "1.2.0",
            "_model_name": "LayoutModel",
            "_view_count": null,
            "_view_module": "@jupyter-widgets/base",
            "_view_module_version": "1.2.0",
            "_view_name": "LayoutView",
            "align_content": null,
            "align_items": null,
            "align_self": null,
            "border": null,
            "bottom": null,
            "display": null,
            "flex": null,
            "flex_flow": null,
            "grid_area": null,
            "grid_auto_columns": null,
            "grid_auto_flow": null,
            "grid_auto_rows": null,
            "grid_column": null,
            "grid_gap": null,
            "grid_row": null,
            "grid_template_areas": null,
            "grid_template_columns": null,
            "grid_template_rows": null,
            "height": null,
            "justify_content": null,
            "justify_items": null,
            "left": null,
            "margin": null,
            "max_height": null,
            "max_width": null,
            "min_height": null,
            "min_width": null,
            "object_fit": null,
            "object_position": null,
            "order": null,
            "overflow": null,
            "overflow_x": null,
            "overflow_y": null,
            "padding": null,
            "right": null,
            "top": null,
            "visibility": null,
            "width": null
          }
        },
        "1cc9cf41fb6d49619611104e78c2aa27": {
          "model_module": "@jupyter-widgets/controls",
          "model_name": "DescriptionStyleModel",
          "model_module_version": "1.5.0",
          "state": {
            "_model_module": "@jupyter-widgets/controls",
            "_model_module_version": "1.5.0",
            "_model_name": "DescriptionStyleModel",
            "_view_count": null,
            "_view_module": "@jupyter-widgets/base",
            "_view_module_version": "1.2.0",
            "_view_name": "StyleView",
            "description_width": ""
          }
        },
        "f7b25649ddec4e5080fd088704c413c7": {
          "model_module": "@jupyter-widgets/controls",
          "model_name": "HBoxModel",
          "model_module_version": "1.5.0",
          "state": {
            "_dom_classes": [],
            "_model_module": "@jupyter-widgets/controls",
            "_model_module_version": "1.5.0",
            "_model_name": "HBoxModel",
            "_view_count": null,
            "_view_module": "@jupyter-widgets/controls",
            "_view_module_version": "1.5.0",
            "_view_name": "HBoxView",
            "box_style": "",
            "children": [
              "IPY_MODEL_b09fce35b1b9483fa2503bce91fc533c",
              "IPY_MODEL_18b60b02f1e347c28fc6293fae09498c",
              "IPY_MODEL_6fde23eef83041e4a1df97e2718e8e75"
            ],
            "layout": "IPY_MODEL_5b2fe6d135424c20b3206d7f22e70aca"
          }
        },
        "b09fce35b1b9483fa2503bce91fc533c": {
          "model_module": "@jupyter-widgets/controls",
          "model_name": "HTMLModel",
          "model_module_version": "1.5.0",
          "state": {
            "_dom_classes": [],
            "_model_module": "@jupyter-widgets/controls",
            "_model_module_version": "1.5.0",
            "_model_name": "HTMLModel",
            "_view_count": null,
            "_view_module": "@jupyter-widgets/controls",
            "_view_module_version": "1.5.0",
            "_view_name": "HTMLView",
            "description": "",
            "description_tooltip": null,
            "layout": "IPY_MODEL_70cf165cc1334f7993681e4efa9a74ab",
            "placeholder": "​",
            "style": "IPY_MODEL_b5bf0a7d08e74c7e8bd4580c0c224822",
            "value": "100%"
          }
        },
        "18b60b02f1e347c28fc6293fae09498c": {
          "model_module": "@jupyter-widgets/controls",
          "model_name": "FloatProgressModel",
          "model_module_version": "1.5.0",
          "state": {
            "_dom_classes": [],
            "_model_module": "@jupyter-widgets/controls",
            "_model_module_version": "1.5.0",
            "_model_name": "FloatProgressModel",
            "_view_count": null,
            "_view_module": "@jupyter-widgets/controls",
            "_view_module_version": "1.5.0",
            "_view_name": "ProgressView",
            "bar_style": "success",
            "description": "",
            "description_tooltip": null,
            "layout": "IPY_MODEL_3e7e0b4c7146435fbe379731c845a521",
            "max": 1648877,
            "min": 0,
            "orientation": "horizontal",
            "style": "IPY_MODEL_20106948da864507b2d571425531767d",
            "value": 1648877
          }
        },
        "6fde23eef83041e4a1df97e2718e8e75": {
          "model_module": "@jupyter-widgets/controls",
          "model_name": "HTMLModel",
          "model_module_version": "1.5.0",
          "state": {
            "_dom_classes": [],
            "_model_module": "@jupyter-widgets/controls",
            "_model_module_version": "1.5.0",
            "_model_name": "HTMLModel",
            "_view_count": null,
            "_view_module": "@jupyter-widgets/controls",
            "_view_module_version": "1.5.0",
            "_view_name": "HTMLView",
            "description": "",
            "description_tooltip": null,
            "layout": "IPY_MODEL_dd5eea8b39a04ef89b4c72057c6dd731",
            "placeholder": "​",
            "style": "IPY_MODEL_ec4f4070bbf34f6ca822eb842172af5a",
            "value": " 1648877/1648877 [00:00&lt;00:00, 26339630.40it/s]"
          }
        },
        "5b2fe6d135424c20b3206d7f22e70aca": {
          "model_module": "@jupyter-widgets/base",
          "model_name": "LayoutModel",
          "model_module_version": "1.2.0",
          "state": {
            "_model_module": "@jupyter-widgets/base",
            "_model_module_version": "1.2.0",
            "_model_name": "LayoutModel",
            "_view_count": null,
            "_view_module": "@jupyter-widgets/base",
            "_view_module_version": "1.2.0",
            "_view_name": "LayoutView",
            "align_content": null,
            "align_items": null,
            "align_self": null,
            "border": null,
            "bottom": null,
            "display": null,
            "flex": null,
            "flex_flow": null,
            "grid_area": null,
            "grid_auto_columns": null,
            "grid_auto_flow": null,
            "grid_auto_rows": null,
            "grid_column": null,
            "grid_gap": null,
            "grid_row": null,
            "grid_template_areas": null,
            "grid_template_columns": null,
            "grid_template_rows": null,
            "height": null,
            "justify_content": null,
            "justify_items": null,
            "left": null,
            "margin": null,
            "max_height": null,
            "max_width": null,
            "min_height": null,
            "min_width": null,
            "object_fit": null,
            "object_position": null,
            "order": null,
            "overflow": null,
            "overflow_x": null,
            "overflow_y": null,
            "padding": null,
            "right": null,
            "top": null,
            "visibility": null,
            "width": null
          }
        },
        "70cf165cc1334f7993681e4efa9a74ab": {
          "model_module": "@jupyter-widgets/base",
          "model_name": "LayoutModel",
          "model_module_version": "1.2.0",
          "state": {
            "_model_module": "@jupyter-widgets/base",
            "_model_module_version": "1.2.0",
            "_model_name": "LayoutModel",
            "_view_count": null,
            "_view_module": "@jupyter-widgets/base",
            "_view_module_version": "1.2.0",
            "_view_name": "LayoutView",
            "align_content": null,
            "align_items": null,
            "align_self": null,
            "border": null,
            "bottom": null,
            "display": null,
            "flex": null,
            "flex_flow": null,
            "grid_area": null,
            "grid_auto_columns": null,
            "grid_auto_flow": null,
            "grid_auto_rows": null,
            "grid_column": null,
            "grid_gap": null,
            "grid_row": null,
            "grid_template_areas": null,
            "grid_template_columns": null,
            "grid_template_rows": null,
            "height": null,
            "justify_content": null,
            "justify_items": null,
            "left": null,
            "margin": null,
            "max_height": null,
            "max_width": null,
            "min_height": null,
            "min_width": null,
            "object_fit": null,
            "object_position": null,
            "order": null,
            "overflow": null,
            "overflow_x": null,
            "overflow_y": null,
            "padding": null,
            "right": null,
            "top": null,
            "visibility": null,
            "width": null
          }
        },
        "b5bf0a7d08e74c7e8bd4580c0c224822": {
          "model_module": "@jupyter-widgets/controls",
          "model_name": "DescriptionStyleModel",
          "model_module_version": "1.5.0",
          "state": {
            "_model_module": "@jupyter-widgets/controls",
            "_model_module_version": "1.5.0",
            "_model_name": "DescriptionStyleModel",
            "_view_count": null,
            "_view_module": "@jupyter-widgets/base",
            "_view_module_version": "1.2.0",
            "_view_name": "StyleView",
            "description_width": ""
          }
        },
        "3e7e0b4c7146435fbe379731c845a521": {
          "model_module": "@jupyter-widgets/base",
          "model_name": "LayoutModel",
          "model_module_version": "1.2.0",
          "state": {
            "_model_module": "@jupyter-widgets/base",
            "_model_module_version": "1.2.0",
            "_model_name": "LayoutModel",
            "_view_count": null,
            "_view_module": "@jupyter-widgets/base",
            "_view_module_version": "1.2.0",
            "_view_name": "LayoutView",
            "align_content": null,
            "align_items": null,
            "align_self": null,
            "border": null,
            "bottom": null,
            "display": null,
            "flex": null,
            "flex_flow": null,
            "grid_area": null,
            "grid_auto_columns": null,
            "grid_auto_flow": null,
            "grid_auto_rows": null,
            "grid_column": null,
            "grid_gap": null,
            "grid_row": null,
            "grid_template_areas": null,
            "grid_template_columns": null,
            "grid_template_rows": null,
            "height": null,
            "justify_content": null,
            "justify_items": null,
            "left": null,
            "margin": null,
            "max_height": null,
            "max_width": null,
            "min_height": null,
            "min_width": null,
            "object_fit": null,
            "object_position": null,
            "order": null,
            "overflow": null,
            "overflow_x": null,
            "overflow_y": null,
            "padding": null,
            "right": null,
            "top": null,
            "visibility": null,
            "width": null
          }
        },
        "20106948da864507b2d571425531767d": {
          "model_module": "@jupyter-widgets/controls",
          "model_name": "ProgressStyleModel",
          "model_module_version": "1.5.0",
          "state": {
            "_model_module": "@jupyter-widgets/controls",
            "_model_module_version": "1.5.0",
            "_model_name": "ProgressStyleModel",
            "_view_count": null,
            "_view_module": "@jupyter-widgets/base",
            "_view_module_version": "1.2.0",
            "_view_name": "StyleView",
            "bar_color": null,
            "description_width": ""
          }
        },
        "dd5eea8b39a04ef89b4c72057c6dd731": {
          "model_module": "@jupyter-widgets/base",
          "model_name": "LayoutModel",
          "model_module_version": "1.2.0",
          "state": {
            "_model_module": "@jupyter-widgets/base",
            "_model_module_version": "1.2.0",
            "_model_name": "LayoutModel",
            "_view_count": null,
            "_view_module": "@jupyter-widgets/base",
            "_view_module_version": "1.2.0",
            "_view_name": "LayoutView",
            "align_content": null,
            "align_items": null,
            "align_self": null,
            "border": null,
            "bottom": null,
            "display": null,
            "flex": null,
            "flex_flow": null,
            "grid_area": null,
            "grid_auto_columns": null,
            "grid_auto_flow": null,
            "grid_auto_rows": null,
            "grid_column": null,
            "grid_gap": null,
            "grid_row": null,
            "grid_template_areas": null,
            "grid_template_columns": null,
            "grid_template_rows": null,
            "height": null,
            "justify_content": null,
            "justify_items": null,
            "left": null,
            "margin": null,
            "max_height": null,
            "max_width": null,
            "min_height": null,
            "min_width": null,
            "object_fit": null,
            "object_position": null,
            "order": null,
            "overflow": null,
            "overflow_x": null,
            "overflow_y": null,
            "padding": null,
            "right": null,
            "top": null,
            "visibility": null,
            "width": null
          }
        },
        "ec4f4070bbf34f6ca822eb842172af5a": {
          "model_module": "@jupyter-widgets/controls",
          "model_name": "DescriptionStyleModel",
          "model_module_version": "1.5.0",
          "state": {
            "_model_module": "@jupyter-widgets/controls",
            "_model_module_version": "1.5.0",
            "_model_name": "DescriptionStyleModel",
            "_view_count": null,
            "_view_module": "@jupyter-widgets/base",
            "_view_module_version": "1.2.0",
            "_view_name": "StyleView",
            "description_width": ""
          }
        },
        "91feae4602ca42daa9dcf4eb37bc5c00": {
          "model_module": "@jupyter-widgets/controls",
          "model_name": "HBoxModel",
          "model_module_version": "1.5.0",
          "state": {
            "_dom_classes": [],
            "_model_module": "@jupyter-widgets/controls",
            "_model_module_version": "1.5.0",
            "_model_name": "HBoxModel",
            "_view_count": null,
            "_view_module": "@jupyter-widgets/controls",
            "_view_module_version": "1.5.0",
            "_view_name": "HBoxView",
            "box_style": "",
            "children": [
              "IPY_MODEL_e83265935b964b3a9a18752da3f1181f",
              "IPY_MODEL_9b5d810c542242e4afa5ad47fca2cf94",
              "IPY_MODEL_6c8a4c13092140e3a17c37488b5d39db"
            ],
            "layout": "IPY_MODEL_7bd162eab9c544fead2f478b06914e60"
          }
        },
        "e83265935b964b3a9a18752da3f1181f": {
          "model_module": "@jupyter-widgets/controls",
          "model_name": "HTMLModel",
          "model_module_version": "1.5.0",
          "state": {
            "_dom_classes": [],
            "_model_module": "@jupyter-widgets/controls",
            "_model_module_version": "1.5.0",
            "_model_name": "HTMLModel",
            "_view_count": null,
            "_view_module": "@jupyter-widgets/controls",
            "_view_module_version": "1.5.0",
            "_view_name": "HTMLView",
            "description": "",
            "description_tooltip": null,
            "layout": "IPY_MODEL_14a7755530264d0c919451a7f8f9ad9d",
            "placeholder": "​",
            "style": "IPY_MODEL_6e964409ce024e0a99e65e648b605b1b",
            "value": "100%"
          }
        },
        "9b5d810c542242e4afa5ad47fca2cf94": {
          "model_module": "@jupyter-widgets/controls",
          "model_name": "FloatProgressModel",
          "model_module_version": "1.5.0",
          "state": {
            "_dom_classes": [],
            "_model_module": "@jupyter-widgets/controls",
            "_model_module_version": "1.5.0",
            "_model_name": "FloatProgressModel",
            "_view_count": null,
            "_view_module": "@jupyter-widgets/controls",
            "_view_module_version": "1.5.0",
            "_view_name": "ProgressView",
            "bar_style": "success",
            "description": "",
            "description_tooltip": null,
            "layout": "IPY_MODEL_bbc381ec72354aadb0cc397d8185bc53",
            "max": 4542,
            "min": 0,
            "orientation": "horizontal",
            "style": "IPY_MODEL_b8121ce04f774a72adca429c04706646",
            "value": 4542
          }
        },
        "6c8a4c13092140e3a17c37488b5d39db": {
          "model_module": "@jupyter-widgets/controls",
          "model_name": "HTMLModel",
          "model_module_version": "1.5.0",
          "state": {
            "_dom_classes": [],
            "_model_module": "@jupyter-widgets/controls",
            "_model_module_version": "1.5.0",
            "_model_name": "HTMLModel",
            "_view_count": null,
            "_view_module": "@jupyter-widgets/controls",
            "_view_module_version": "1.5.0",
            "_view_name": "HTMLView",
            "description": "",
            "description_tooltip": null,
            "layout": "IPY_MODEL_e1f01ae24d154f6b94040a9aece44470",
            "placeholder": "​",
            "style": "IPY_MODEL_232a281d17df4c82a932118cfc507fa3",
            "value": " 4542/4542 [00:00&lt;00:00, 302773.82it/s]"
          }
        },
        "7bd162eab9c544fead2f478b06914e60": {
          "model_module": "@jupyter-widgets/base",
          "model_name": "LayoutModel",
          "model_module_version": "1.2.0",
          "state": {
            "_model_module": "@jupyter-widgets/base",
            "_model_module_version": "1.2.0",
            "_model_name": "LayoutModel",
            "_view_count": null,
            "_view_module": "@jupyter-widgets/base",
            "_view_module_version": "1.2.0",
            "_view_name": "LayoutView",
            "align_content": null,
            "align_items": null,
            "align_self": null,
            "border": null,
            "bottom": null,
            "display": null,
            "flex": null,
            "flex_flow": null,
            "grid_area": null,
            "grid_auto_columns": null,
            "grid_auto_flow": null,
            "grid_auto_rows": null,
            "grid_column": null,
            "grid_gap": null,
            "grid_row": null,
            "grid_template_areas": null,
            "grid_template_columns": null,
            "grid_template_rows": null,
            "height": null,
            "justify_content": null,
            "justify_items": null,
            "left": null,
            "margin": null,
            "max_height": null,
            "max_width": null,
            "min_height": null,
            "min_width": null,
            "object_fit": null,
            "object_position": null,
            "order": null,
            "overflow": null,
            "overflow_x": null,
            "overflow_y": null,
            "padding": null,
            "right": null,
            "top": null,
            "visibility": null,
            "width": null
          }
        },
        "14a7755530264d0c919451a7f8f9ad9d": {
          "model_module": "@jupyter-widgets/base",
          "model_name": "LayoutModel",
          "model_module_version": "1.2.0",
          "state": {
            "_model_module": "@jupyter-widgets/base",
            "_model_module_version": "1.2.0",
            "_model_name": "LayoutModel",
            "_view_count": null,
            "_view_module": "@jupyter-widgets/base",
            "_view_module_version": "1.2.0",
            "_view_name": "LayoutView",
            "align_content": null,
            "align_items": null,
            "align_self": null,
            "border": null,
            "bottom": null,
            "display": null,
            "flex": null,
            "flex_flow": null,
            "grid_area": null,
            "grid_auto_columns": null,
            "grid_auto_flow": null,
            "grid_auto_rows": null,
            "grid_column": null,
            "grid_gap": null,
            "grid_row": null,
            "grid_template_areas": null,
            "grid_template_columns": null,
            "grid_template_rows": null,
            "height": null,
            "justify_content": null,
            "justify_items": null,
            "left": null,
            "margin": null,
            "max_height": null,
            "max_width": null,
            "min_height": null,
            "min_width": null,
            "object_fit": null,
            "object_position": null,
            "order": null,
            "overflow": null,
            "overflow_x": null,
            "overflow_y": null,
            "padding": null,
            "right": null,
            "top": null,
            "visibility": null,
            "width": null
          }
        },
        "6e964409ce024e0a99e65e648b605b1b": {
          "model_module": "@jupyter-widgets/controls",
          "model_name": "DescriptionStyleModel",
          "model_module_version": "1.5.0",
          "state": {
            "_model_module": "@jupyter-widgets/controls",
            "_model_module_version": "1.5.0",
            "_model_name": "DescriptionStyleModel",
            "_view_count": null,
            "_view_module": "@jupyter-widgets/base",
            "_view_module_version": "1.2.0",
            "_view_name": "StyleView",
            "description_width": ""
          }
        },
        "bbc381ec72354aadb0cc397d8185bc53": {
          "model_module": "@jupyter-widgets/base",
          "model_name": "LayoutModel",
          "model_module_version": "1.2.0",
          "state": {
            "_model_module": "@jupyter-widgets/base",
            "_model_module_version": "1.2.0",
            "_model_name": "LayoutModel",
            "_view_count": null,
            "_view_module": "@jupyter-widgets/base",
            "_view_module_version": "1.2.0",
            "_view_name": "LayoutView",
            "align_content": null,
            "align_items": null,
            "align_self": null,
            "border": null,
            "bottom": null,
            "display": null,
            "flex": null,
            "flex_flow": null,
            "grid_area": null,
            "grid_auto_columns": null,
            "grid_auto_flow": null,
            "grid_auto_rows": null,
            "grid_column": null,
            "grid_gap": null,
            "grid_row": null,
            "grid_template_areas": null,
            "grid_template_columns": null,
            "grid_template_rows": null,
            "height": null,
            "justify_content": null,
            "justify_items": null,
            "left": null,
            "margin": null,
            "max_height": null,
            "max_width": null,
            "min_height": null,
            "min_width": null,
            "object_fit": null,
            "object_position": null,
            "order": null,
            "overflow": null,
            "overflow_x": null,
            "overflow_y": null,
            "padding": null,
            "right": null,
            "top": null,
            "visibility": null,
            "width": null
          }
        },
        "b8121ce04f774a72adca429c04706646": {
          "model_module": "@jupyter-widgets/controls",
          "model_name": "ProgressStyleModel",
          "model_module_version": "1.5.0",
          "state": {
            "_model_module": "@jupyter-widgets/controls",
            "_model_module_version": "1.5.0",
            "_model_name": "ProgressStyleModel",
            "_view_count": null,
            "_view_module": "@jupyter-widgets/base",
            "_view_module_version": "1.2.0",
            "_view_name": "StyleView",
            "bar_color": null,
            "description_width": ""
          }
        },
        "e1f01ae24d154f6b94040a9aece44470": {
          "model_module": "@jupyter-widgets/base",
          "model_name": "LayoutModel",
          "model_module_version": "1.2.0",
          "state": {
            "_model_module": "@jupyter-widgets/base",
            "_model_module_version": "1.2.0",
            "_model_name": "LayoutModel",
            "_view_count": null,
            "_view_module": "@jupyter-widgets/base",
            "_view_module_version": "1.2.0",
            "_view_name": "LayoutView",
            "align_content": null,
            "align_items": null,
            "align_self": null,
            "border": null,
            "bottom": null,
            "display": null,
            "flex": null,
            "flex_flow": null,
            "grid_area": null,
            "grid_auto_columns": null,
            "grid_auto_flow": null,
            "grid_auto_rows": null,
            "grid_column": null,
            "grid_gap": null,
            "grid_row": null,
            "grid_template_areas": null,
            "grid_template_columns": null,
            "grid_template_rows": null,
            "height": null,
            "justify_content": null,
            "justify_items": null,
            "left": null,
            "margin": null,
            "max_height": null,
            "max_width": null,
            "min_height": null,
            "min_width": null,
            "object_fit": null,
            "object_position": null,
            "order": null,
            "overflow": null,
            "overflow_x": null,
            "overflow_y": null,
            "padding": null,
            "right": null,
            "top": null,
            "visibility": null,
            "width": null
          }
        },
        "232a281d17df4c82a932118cfc507fa3": {
          "model_module": "@jupyter-widgets/controls",
          "model_name": "DescriptionStyleModel",
          "model_module_version": "1.5.0",
          "state": {
            "_model_module": "@jupyter-widgets/controls",
            "_model_module_version": "1.5.0",
            "_model_name": "DescriptionStyleModel",
            "_view_count": null,
            "_view_module": "@jupyter-widgets/base",
            "_view_module_version": "1.2.0",
            "_view_name": "StyleView",
            "description_width": ""
          }
        }
      }
    }
  },
  "cells": [
    {
      "cell_type": "markdown",
      "metadata": {
        "id": "view-in-github",
        "colab_type": "text"
      },
      "source": [
        "<a href=\"https://colab.research.google.com/github/achalgarg14/training_mnist_rand/blob/main/Achal_Training_MNIST_Rand.ipynb\" target=\"_parent\"><img src=\"https://colab.research.google.com/assets/colab-badge.svg\" alt=\"Open In Colab\"/></a>"
      ]
    },
    {
      "cell_type": "code",
      "execution_count": 3,
      "metadata": {
        "colab": {
          "base_uri": "https://localhost:8080/"
        },
        "id": "uuRH7XgWZy0d",
        "outputId": "1838fcf6-91b3-43c2-8963-f76204828f32"
      },
      "outputs": [
        {
          "output_type": "stream",
          "name": "stdout",
          "text": [
            "Looking in indexes: https://pypi.org/simple, https://us-python.pkg.dev/colab-wheels/public/simple/\n",
            "Requirement already satisfied: torch in /usr/local/lib/python3.8/dist-packages (1.13.0+cu116)\n",
            "Requirement already satisfied: typing-extensions in /usr/local/lib/python3.8/dist-packages (from torch) (4.4.0)\n"
          ]
        }
      ],
      "source": [
        "!pip install torch"
      ]
    },
    {
      "cell_type": "markdown",
      "source": [
        "#Importing Libraries"
      ],
      "metadata": {
        "id": "_iaRoRx-8KPm"
      }
    },
    {
      "cell_type": "code",
      "source": [
        "import numpy as np\n",
        "import torch\n",
        "from torch.autograd import grad \n",
        "import torch.nn.functional as F\n",
        "import torch.optim as optim\n",
        "import torchvision # provide access to datasets, models, transforms, utils, etc\n",
        "import torchvision.transforms as transforms\n",
        "import matplotlib.pyplot as plt"
      ],
      "metadata": {
        "id": "Y9t2lqznZ58S"
      },
      "execution_count": 2,
      "outputs": []
    },
    {
      "cell_type": "markdown",
      "source": [
        "#Downloading MNIST Data"
      ],
      "metadata": {
        "id": "E_CS8kKk8YdR"
      }
    },
    {
      "cell_type": "code",
      "source": [
        "train_set = torchvision.datasets.MNIST(\n",
        "    root='./data'\n",
        "    ,train=True\n",
        "    ,download=True\n",
        "    ,transform=transforms.Compose([\n",
        "        transforms.ToTensor()\n",
        "    ])\n",
        ")\n",
        "test_set = torchvision.datasets.MNIST(\n",
        "    root='./data'\n",
        "    ,train=False\n",
        "    ,download=True\n",
        "    ,transform=transforms.Compose([\n",
        "        transforms.ToTensor()\n",
        "    ])\n",
        ")"
      ],
      "metadata": {
        "id": "BCsKdiMVaMtS",
        "colab": {
          "base_uri": "https://localhost:8080/",
          "height": 431,
          "referenced_widgets": [
            "45f830e389c141d198f8e3e03f0e7abc",
            "dae9ba538e9a45b39270202dfb3bf59d",
            "273c48f472964a639fb1e5e1594b0a91",
            "cdc7f96cdaf3430daf0a1c97840f35ec",
            "3e30deb733304f159ef3c4cf2c4c9181",
            "5f76cb2ca21c4be997ee92920a9aba8d",
            "f82eb4aeecb14a86aebd7b20783d5427",
            "9c8a6025ff2a4e14be0d2429617d3f8a",
            "bfa1a58bada642579102cd50eca96d9d",
            "3c976e9fe83549b98f77335ee3f30c82",
            "a8aaa621797645daa89f37281ffc2a9b",
            "bdece011aff74e7eabe5925b9aa3c4c3",
            "3f6d5f09112343658e055a4161e72cb2",
            "51c3c40771724bb8bc4d01bff7320cf2",
            "e8f11874ba4c458eaa60efac9fdd1b12",
            "a4338d1cbe0449248b17e86a8bfcee44",
            "55210d73b9e346d28c24e6f5929ebe1e",
            "622df19615f7428a896ca1297a41ca9f",
            "56f16e824d2c4ea2945f57f80d2c54ab",
            "7b3f013fdc954b38adcedc9395da092a",
            "b6b53c39b03c429491426c538957bc93",
            "1cc9cf41fb6d49619611104e78c2aa27",
            "f7b25649ddec4e5080fd088704c413c7",
            "b09fce35b1b9483fa2503bce91fc533c",
            "18b60b02f1e347c28fc6293fae09498c",
            "6fde23eef83041e4a1df97e2718e8e75",
            "5b2fe6d135424c20b3206d7f22e70aca",
            "70cf165cc1334f7993681e4efa9a74ab",
            "b5bf0a7d08e74c7e8bd4580c0c224822",
            "3e7e0b4c7146435fbe379731c845a521",
            "20106948da864507b2d571425531767d",
            "dd5eea8b39a04ef89b4c72057c6dd731",
            "ec4f4070bbf34f6ca822eb842172af5a",
            "91feae4602ca42daa9dcf4eb37bc5c00",
            "e83265935b964b3a9a18752da3f1181f",
            "9b5d810c542242e4afa5ad47fca2cf94",
            "6c8a4c13092140e3a17c37488b5d39db",
            "7bd162eab9c544fead2f478b06914e60",
            "14a7755530264d0c919451a7f8f9ad9d",
            "6e964409ce024e0a99e65e648b605b1b",
            "bbc381ec72354aadb0cc397d8185bc53",
            "b8121ce04f774a72adca429c04706646",
            "e1f01ae24d154f6b94040a9aece44470",
            "232a281d17df4c82a932118cfc507fa3"
          ]
        },
        "outputId": "66929c87-0c73-4b0c-f562-a58cf3f43ad8"
      },
      "execution_count": 13,
      "outputs": [
        {
          "output_type": "stream",
          "name": "stdout",
          "text": [
            "Downloading http://yann.lecun.com/exdb/mnist/train-images-idx3-ubyte.gz\n",
            "Downloading http://yann.lecun.com/exdb/mnist/train-images-idx3-ubyte.gz to ./data/MNIST/raw/train-images-idx3-ubyte.gz\n"
          ]
        },
        {
          "output_type": "display_data",
          "data": {
            "text/plain": [
              "  0%|          | 0/9912422 [00:00<?, ?it/s]"
            ],
            "application/vnd.jupyter.widget-view+json": {
              "version_major": 2,
              "version_minor": 0,
              "model_id": "45f830e389c141d198f8e3e03f0e7abc"
            }
          },
          "metadata": {}
        },
        {
          "output_type": "stream",
          "name": "stdout",
          "text": [
            "Extracting ./data/MNIST/raw/train-images-idx3-ubyte.gz to ./data/MNIST/raw\n",
            "\n",
            "Downloading http://yann.lecun.com/exdb/mnist/train-labels-idx1-ubyte.gz\n",
            "Downloading http://yann.lecun.com/exdb/mnist/train-labels-idx1-ubyte.gz to ./data/MNIST/raw/train-labels-idx1-ubyte.gz\n"
          ]
        },
        {
          "output_type": "display_data",
          "data": {
            "text/plain": [
              "  0%|          | 0/28881 [00:00<?, ?it/s]"
            ],
            "application/vnd.jupyter.widget-view+json": {
              "version_major": 2,
              "version_minor": 0,
              "model_id": "bdece011aff74e7eabe5925b9aa3c4c3"
            }
          },
          "metadata": {}
        },
        {
          "output_type": "stream",
          "name": "stdout",
          "text": [
            "Extracting ./data/MNIST/raw/train-labels-idx1-ubyte.gz to ./data/MNIST/raw\n",
            "\n",
            "Downloading http://yann.lecun.com/exdb/mnist/t10k-images-idx3-ubyte.gz\n",
            "Downloading http://yann.lecun.com/exdb/mnist/t10k-images-idx3-ubyte.gz to ./data/MNIST/raw/t10k-images-idx3-ubyte.gz\n"
          ]
        },
        {
          "output_type": "display_data",
          "data": {
            "text/plain": [
              "  0%|          | 0/1648877 [00:00<?, ?it/s]"
            ],
            "application/vnd.jupyter.widget-view+json": {
              "version_major": 2,
              "version_minor": 0,
              "model_id": "f7b25649ddec4e5080fd088704c413c7"
            }
          },
          "metadata": {}
        },
        {
          "output_type": "stream",
          "name": "stdout",
          "text": [
            "Extracting ./data/MNIST/raw/t10k-images-idx3-ubyte.gz to ./data/MNIST/raw\n",
            "\n",
            "Downloading http://yann.lecun.com/exdb/mnist/t10k-labels-idx1-ubyte.gz\n",
            "Downloading http://yann.lecun.com/exdb/mnist/t10k-labels-idx1-ubyte.gz to ./data/MNIST/raw/t10k-labels-idx1-ubyte.gz\n"
          ]
        },
        {
          "output_type": "display_data",
          "data": {
            "text/plain": [
              "  0%|          | 0/4542 [00:00<?, ?it/s]"
            ],
            "application/vnd.jupyter.widget-view+json": {
              "version_major": 2,
              "version_minor": 0,
              "model_id": "91feae4602ca42daa9dcf4eb37bc5c00"
            }
          },
          "metadata": {}
        },
        {
          "output_type": "stream",
          "name": "stdout",
          "text": [
            "Extracting ./data/MNIST/raw/t10k-labels-idx1-ubyte.gz to ./data/MNIST/raw\n",
            "\n"
          ]
        }
      ]
    },
    {
      "cell_type": "markdown",
      "source": [
        "# Understanding MNIST Data"
      ],
      "metadata": {
        "id": "92ERBQSi8czO"
      }
    },
    {
      "cell_type": "code",
      "source": [
        "print(train_set)"
      ],
      "metadata": {
        "colab": {
          "base_uri": "https://localhost:8080/"
        },
        "id": "j3gpKzkaaqwa",
        "outputId": "7e3cc0f9-1002-474e-92b6-4e90840f140a"
      },
      "execution_count": 14,
      "outputs": [
        {
          "output_type": "stream",
          "name": "stdout",
          "text": [
            "Dataset MNIST\n",
            "    Number of datapoints: 60000\n",
            "    Root location: ./data\n",
            "    Split: Train\n",
            "    StandardTransform\n",
            "Transform: Compose(\n",
            "               ToTensor()\n",
            "           )\n"
          ]
        }
      ]
    },
    {
      "cell_type": "code",
      "source": [
        "print(test_set)"
      ],
      "metadata": {
        "colab": {
          "base_uri": "https://localhost:8080/"
        },
        "id": "ycbSiTyUk5v7",
        "outputId": "610df64b-8e97-4cca-dab1-741f982658e0"
      },
      "execution_count": 15,
      "outputs": [
        {
          "output_type": "stream",
          "name": "stdout",
          "text": [
            "Dataset MNIST\n",
            "    Number of datapoints: 10000\n",
            "    Root location: ./data\n",
            "    Split: Test\n",
            "    StandardTransform\n",
            "Transform: Compose(\n",
            "               ToTensor()\n",
            "           )\n"
          ]
        }
      ]
    },
    {
      "cell_type": "code",
      "source": [
        "i = 0\n",
        "print(\"Train Labels\")\n",
        "for j in train_set:\n",
        "  print(j[1])\n",
        "  i+=1\n",
        "  if i > 5:\n",
        "    break\n",
        "    \n",
        "print(\"Test Labels\")\n",
        "i=0\n",
        "for j in test_set:\n",
        "  print(j[1])\n",
        "  i+=1\n",
        "  if i > 5:\n",
        "    break"
      ],
      "metadata": {
        "colab": {
          "base_uri": "https://localhost:8080/"
        },
        "id": "V2NbvyBFa1EA",
        "outputId": "c3301a24-faef-4dec-e06a-8878d9ba4685"
      },
      "execution_count": null,
      "outputs": [
        {
          "output_type": "stream",
          "name": "stdout",
          "text": [
            "Train Labels\n",
            "5\n",
            "0\n",
            "4\n",
            "1\n",
            "9\n",
            "2\n",
            "Test Labels\n",
            "7\n",
            "2\n",
            "1\n",
            "0\n",
            "4\n",
            "1\n"
          ]
        }
      ]
    },
    {
      "cell_type": "markdown",
      "source": [
        "\n",
        "Trying out Batch Creation"
      ],
      "metadata": {
        "id": "CBJCilmn8nPE"
      }
    },
    {
      "cell_type": "code",
      "source": [
        "train_loader = torch.utils.data.DataLoader(\n",
        "    train_set, \n",
        "    batch_size=5,\n",
        "    shuffle=True\n",
        ")"
      ],
      "metadata": {
        "id": "AK20Hq3Ea_sw"
      },
      "execution_count": 16,
      "outputs": []
    },
    {
      "cell_type": "code",
      "source": [
        "len(train_set), len(test_set)"
      ],
      "metadata": {
        "colab": {
          "base_uri": "https://localhost:8080/"
        },
        "id": "cvL6nc4Hbrod",
        "outputId": "92f50708-ca02-4138-a55a-b4e7974777bb"
      },
      "execution_count": null,
      "outputs": [
        {
          "output_type": "execute_result",
          "data": {
            "text/plain": [
              "(60000, 10000)"
            ]
          },
          "metadata": {},
          "execution_count": 45
        }
      ]
    },
    {
      "cell_type": "code",
      "source": [
        "train_set.targets, test_set.targets"
      ],
      "metadata": {
        "colab": {
          "base_uri": "https://localhost:8080/"
        },
        "id": "nb3kp28RbvOt",
        "outputId": "0c9b9599-9f75-45e1-e527-79a4022108ba"
      },
      "execution_count": null,
      "outputs": [
        {
          "output_type": "execute_result",
          "data": {
            "text/plain": [
              "(tensor([5, 0, 4,  ..., 5, 6, 8]), tensor([7, 2, 1,  ..., 4, 5, 6]))"
            ]
          },
          "metadata": {},
          "execution_count": 46
        }
      ]
    },
    {
      "cell_type": "code",
      "source": [
        "print(train_set.targets.bincount())\n",
        "print(test_set.targets.bincount())"
      ],
      "metadata": {
        "colab": {
          "base_uri": "https://localhost:8080/"
        },
        "id": "npr-cTdCb0yf",
        "outputId": "082528ab-a9cd-497e-f284-4d053b1a0eb6"
      },
      "execution_count": null,
      "outputs": [
        {
          "output_type": "stream",
          "name": "stdout",
          "text": [
            "tensor([5923, 6742, 5958, 6131, 5842, 5421, 5918, 6265, 5851, 5949])\n",
            "tensor([ 980, 1135, 1032, 1010,  982,  892,  958, 1028,  974, 1009])\n"
          ]
        }
      ]
    },
    {
      "cell_type": "code",
      "source": [
        "sample = next(iter(train_set))"
      ],
      "metadata": {
        "id": "YZJ_pP48b697"
      },
      "execution_count": 21,
      "outputs": []
    },
    {
      "cell_type": "code",
      "source": [
        "type(sample)"
      ],
      "metadata": {
        "colab": {
          "base_uri": "https://localhost:8080/"
        },
        "id": "93M7CIELcbO-",
        "outputId": "be3bd9b9-c176-4946-b1f1-f0232c62fcc0"
      },
      "execution_count": null,
      "outputs": [
        {
          "output_type": "execute_result",
          "data": {
            "text/plain": [
              "tuple"
            ]
          },
          "metadata": {},
          "execution_count": 17
        }
      ]
    },
    {
      "cell_type": "code",
      "source": [
        "sample[0].shape"
      ],
      "metadata": {
        "colab": {
          "base_uri": "https://localhost:8080/"
        },
        "id": "HMfUI_SYcHpJ",
        "outputId": "79845723-3c5d-401f-9375-70a22bb97c76"
      },
      "execution_count": null,
      "outputs": [
        {
          "output_type": "execute_result",
          "data": {
            "text/plain": [
              "torch.Size([1, 28, 28])"
            ]
          },
          "metadata": {},
          "execution_count": 14
        }
      ]
    },
    {
      "cell_type": "code",
      "source": [
        "sample[0]"
      ],
      "metadata": {
        "id": "ElSMzVGWcSGS"
      },
      "execution_count": null,
      "outputs": []
    },
    {
      "cell_type": "code",
      "source": [
        "sample[1]"
      ],
      "metadata": {
        "colab": {
          "base_uri": "https://localhost:8080/"
        },
        "id": "fr0EDr_pcgna",
        "outputId": "6dd710e8-45f0-4152-8f87-1ac05a18cf18"
      },
      "execution_count": null,
      "outputs": [
        {
          "output_type": "execute_result",
          "data": {
            "text/plain": [
              "5"
            ]
          },
          "metadata": {},
          "execution_count": 18
        }
      ]
    },
    {
      "cell_type": "code",
      "source": [
        "image, label = sample\n",
        "\n",
        "plt.imshow(image.squeeze(), cmap='gray')\n",
        "print('label:', label)"
      ],
      "metadata": {
        "colab": {
          "base_uri": "https://localhost:8080/",
          "height": 283
        },
        "id": "85VYWZbGci5S",
        "outputId": "e3fb6dab-5831-4a24-ec5a-0961aef2cbcb"
      },
      "execution_count": 22,
      "outputs": [
        {
          "output_type": "stream",
          "name": "stdout",
          "text": [
            "label: 5\n"
          ]
        },
        {
          "output_type": "display_data",
          "data": {
            "text/plain": [
              "<Figure size 432x288 with 1 Axes>"
            ],
            "image/png": "[encoded data removed]"
          },
          "metadata": {
            "needs_background": "light"
          }
        }
      ]
    },
    {
      "cell_type": "code",
      "source": [
        "batch = next(iter(train_loader))\n",
        "len(batch), type(batch)"
      ],
      "metadata": {
        "colab": {
          "base_uri": "https://localhost:8080/"
        },
        "id": "UOT_WOSMcvLB",
        "outputId": "f39fe821-d173-4421-e048-3a98f28d59de"
      },
      "execution_count": null,
      "outputs": [
        {
          "output_type": "execute_result",
          "data": {
            "text/plain": [
              "(2, list)"
            ]
          },
          "metadata": {},
          "execution_count": 22
        }
      ]
    },
    {
      "cell_type": "code",
      "source": [
        "batch[1][0]"
      ],
      "metadata": {
        "colab": {
          "base_uri": "https://localhost:8080/"
        },
        "id": "3_JUc5hCc6US",
        "outputId": "82234126-2e7e-46d5-8e50-798792880b63"
      },
      "execution_count": null,
      "outputs": [
        {
          "output_type": "execute_result",
          "data": {
            "text/plain": [
              "tensor(1)"
            ]
          },
          "metadata": {},
          "execution_count": 27
        }
      ]
    },
    {
      "cell_type": "code",
      "source": [
        "image = batch[0][0]\n",
        "label = batch[1][0]\n",
        "\n",
        "plt.imshow(image.squeeze(), cmap='gray')\n",
        "print('label:', label)"
      ],
      "metadata": {
        "colab": {
          "base_uri": "https://localhost:8080/",
          "height": 283
        },
        "id": "-aSFcLrtdLhK",
        "outputId": "71ddd0c7-e36a-4c91-c602-7810683edd66"
      },
      "execution_count": null,
      "outputs": [
        {
          "output_type": "stream",
          "name": "stdout",
          "text": [
            "label: tensor(1)\n"
          ]
        },
        {
          "output_type": "display_data",
          "data": {
            "text/plain": [
              "<Figure size 432x288 with 1 Axes>"
            ],
            "image/png": "[encoded data removed]"
          },
          "metadata": {
            "needs_background": "light"
          }
        }
      ]
    },
    {
      "cell_type": "code",
      "source": [
        "len(batch[0])"
      ],
      "metadata": {
        "colab": {
          "base_uri": "https://localhost:8080/"
        },
        "id": "3GeHSU5HdZes",
        "outputId": "fb53b234-d57e-4227-da01-a21ad8171bc5"
      },
      "execution_count": null,
      "outputs": [
        {
          "output_type": "execute_result",
          "data": {
            "text/plain": [
              "5"
            ]
          },
          "metadata": {},
          "execution_count": 30
        }
      ]
    },
    {
      "cell_type": "code",
      "source": [
        "images, labels = batch"
      ],
      "metadata": {
        "id": "Bcx-mgdWdgVt"
      },
      "execution_count": null,
      "outputs": []
    },
    {
      "cell_type": "code",
      "source": [
        "images.shape, labels.shape"
      ],
      "metadata": {
        "colab": {
          "base_uri": "https://localhost:8080/"
        },
        "id": "Yhq8GUJEdmKE",
        "outputId": "bf4249e2-248d-4bc6-b8c2-ab856b1bd2b4"
      },
      "execution_count": null,
      "outputs": [
        {
          "output_type": "execute_result",
          "data": {
            "text/plain": [
              "(torch.Size([5, 1, 28, 28]), torch.Size([5]))"
            ]
          },
          "metadata": {},
          "execution_count": 32
        }
      ]
    },
    {
      "cell_type": "code",
      "source": [
        "train_loader = torch.utils.data.DataLoader(\n",
        "    train_set, \n",
        "    batch_size=32,\n",
        "    shuffle=True\n",
        ")\n",
        "batch = next(iter(train_loader))\n",
        "images, labels = batch\n",
        "grid = torchvision.utils.make_grid(images, nrow=8)\n",
        "plt.figure(figsize=(15,15))\n",
        "plt.imshow(np.transpose(grid, (1,2,0)))\n",
        "print('labels:', labels)"
      ],
      "metadata": {
        "colab": {
          "base_uri": "https://localhost:8080/",
          "height": 508
        },
        "id": "wKTFdOqodqnI",
        "outputId": "d9bce353-39e5-4b9c-d73a-89aa884d2151"
      },
      "execution_count": null,
      "outputs": [
        {
          "output_type": "stream",
          "name": "stdout",
          "text": [
            "labels: tensor([7, 6, 7, 8, 3, 1, 9, 3, 2, 5, 1, 4, 8, 3, 3, 9, 8, 4, 0, 1, 7, 9, 7, 8,\n",
            "        9, 7, 6, 3, 3, 5, 9, 7])\n"
          ]
        },
        {
          "output_type": "display_data",
          "data": {
            "text/plain": [
              "<Figure size 1080x1080 with 1 Axes>"
            ],
            "image/png": "[encoded data removed]"
          },
          "metadata": {
            "needs_background": "light"
          }
        }
      ]
    },
    {
      "cell_type": "code",
      "source": [
        "batch = next(iter(train_loader))\n",
        "images, labels = batch\n",
        "grid = torchvision.utils.make_grid(images, nrow=8)\n",
        "plt.figure(figsize=(15,15))\n",
        "plt.imshow(np.transpose(grid, (1,2,0)))\n",
        "print('labels:', labels)"
      ],
      "metadata": {
        "colab": {
          "base_uri": "https://localhost:8080/",
          "height": 508
        },
        "id": "TGVVb2ileK_g",
        "outputId": "9ec4ab40-9936-4737-932e-e7793c7c197f"
      },
      "execution_count": null,
      "outputs": [
        {
          "output_type": "stream",
          "name": "stdout",
          "text": [
            "labels: tensor([1, 9, 3, 5, 8, 3, 7, 5, 6, 2, 5, 1, 9, 4, 5, 9, 8, 7, 2, 5, 3, 2, 9, 1,\n",
            "        7, 5, 7, 4, 3, 5, 0, 9])\n"
          ]
        },
        {
          "output_type": "display_data",
          "data": {
            "text/plain": [
              "<Figure size 1080x1080 with 1 Axes>"
            ],
            "image/png": "[encoded data removed]"
          },
          "metadata": {
            "needs_background": "light"
          }
        }
      ]
    },
    {
      "cell_type": "markdown",
      "source": [
        "#Setting device to cude \n"
      ],
      "metadata": {
        "id": "oG7_1UtNZm1T"
      }
    },
    {
      "cell_type": "code",
      "source": [
        "device = torch.device(\"cuda\" if torch.cuda.is_available() else \"cpu\")\n",
        "print(device)"
      ],
      "metadata": {
        "colab": {
          "base_uri": "https://localhost:8080/"
        },
        "id": "2mxV6CpaQVWK",
        "outputId": "bcaddde7-1019-4a2f-c3ee-ae41483c91f0"
      },
      "execution_count": 11,
      "outputs": [
        {
          "output_type": "stream",
          "name": "stdout",
          "text": [
            "cuda\n"
          ]
        }
      ]
    },
    {
      "cell_type": "markdown",
      "source": [
        "# Creating Dataset with 2 inputs and 2 labels"
      ],
      "metadata": {
        "id": "rOAFkbmu2ZPW"
      }
    },
    {
      "cell_type": "markdown",
      "source": [
        "# Creating MNIST Dataset"
      ],
      "metadata": {
        "id": "M-Lb7Ws_2VPp"
      }
    },
    {
      "cell_type": "code",
      "source": [
        "train_mnist_set = torchvision.datasets.MNIST(\n",
        "    root='./data'\n",
        "    ,train=True\n",
        "    ,download=True\n",
        "    ,transform=transforms.Compose([\n",
        "        transforms.ToTensor()\n",
        "    ])\n",
        ")\n",
        "test_mnist_set = torchvision.datasets.MNIST(\n",
        "    root='./data'\n",
        "    ,train=False\n",
        "    ,download=True\n",
        "    ,transform=transforms.Compose([\n",
        "        transforms.ToTensor()\n",
        "    ])\n",
        ")"
      ],
      "metadata": {
        "id": "PHNQILKs2U3f"
      },
      "execution_count": 9,
      "outputs": []
    },
    {
      "cell_type": "code",
      "source": [
        "len(train_mnist_set), len(test_mnist_set)"
      ],
      "metadata": {
        "colab": {
          "base_uri": "https://localhost:8080/"
        },
        "id": "kTxqfQyJ2T6z",
        "outputId": "874ca482-3197-4aa7-9d5a-0d69d7ec7fa1"
      },
      "execution_count": 10,
      "outputs": [
        {
          "output_type": "execute_result",
          "data": {
            "text/plain": [
              "(60000, 10000)"
            ]
          },
          "metadata": {},
          "execution_count": 10
        }
      ]
    },
    {
      "cell_type": "code",
      "source": [
        "type(train_mnist_set[0])"
      ],
      "metadata": {
        "colab": {
          "base_uri": "https://localhost:8080/"
        },
        "id": "Dp1R6OpLBOO8",
        "outputId": "18501da7-a5d6-4fb7-b663-f1a6d8588dbe"
      },
      "execution_count": 25,
      "outputs": [
        {
          "output_type": "execute_result",
          "data": {
            "text/plain": [
              "tuple"
            ]
          },
          "metadata": {},
          "execution_count": 25
        }
      ]
    },
    {
      "cell_type": "code",
      "source": [
        "train_mnist_set[0][0]"
      ],
      "metadata": {
        "id": "cl1LRAiS2_Fp"
      },
      "execution_count": null,
      "outputs": []
    },
    {
      "cell_type": "code",
      "source": [
        "train_mnist_set[0][1]"
      ],
      "metadata": {
        "colab": {
          "base_uri": "https://localhost:8080/"
        },
        "id": "H0zLbMqFPJKU",
        "outputId": "8723894b-b87e-4970-d646-85532980dbf1"
      },
      "execution_count": 27,
      "outputs": [
        {
          "output_type": "execute_result",
          "data": {
            "text/plain": [
              "5"
            ]
          },
          "metadata": {},
          "execution_count": 27
        }
      ]
    },
    {
      "cell_type": "markdown",
      "source": [
        "# Creating Random Number Dataset\n",
        "\n",
        "This will contain one hot encoding as input and the number as label\n",
        "\n",
        "*Not Able to implement this approach without a for loop*"
      ],
      "metadata": {
        "id": "radl0KH0zp0X"
      }
    },
    {
      "cell_type": "markdown",
      "source": [
        "Test Code"
      ],
      "metadata": {
        "id": "Cpwkq-va4M6A"
      }
    },
    {
      "cell_type": "code",
      "source": [
        "random_num = torch.randint(low = 0, high = 10, size=(1,10))"
      ],
      "metadata": {
        "id": "6Np7qFLM4LlN"
      },
      "execution_count": null,
      "outputs": []
    },
    {
      "cell_type": "code",
      "source": [
        "random_num.shape"
      ],
      "metadata": {
        "colab": {
          "base_uri": "https://localhost:8080/"
        },
        "id": "bd9H_S6h5P23",
        "outputId": "d0455eff-5a8f-4053-86bd-0a3c2e3e7ec9"
      },
      "execution_count": null,
      "outputs": [
        {
          "output_type": "execute_result",
          "data": {
            "text/plain": [
              "torch.Size([1, 10])"
            ]
          },
          "metadata": {},
          "execution_count": 74
        }
      ]
    },
    {
      "cell_type": "code",
      "source": [
        "random_num"
      ],
      "metadata": {
        "colab": {
          "base_uri": "https://localhost:8080/"
        },
        "id": "qYb35HD74Vgg",
        "outputId": "514da96d-d658-44dd-a849-c2053fbb7289"
      },
      "execution_count": null,
      "outputs": [
        {
          "output_type": "execute_result",
          "data": {
            "text/plain": [
              "tensor([[9, 5, 3, 3, 0, 4, 1, 8, 4, 7]])"
            ]
          },
          "metadata": {},
          "execution_count": 69
        }
      ]
    },
    {
      "cell_type": "code",
      "source": [
        "output = F.one_hot(random_num, num_classes = 10)"
      ],
      "metadata": {
        "id": "-2Z81rT24ZNb"
      },
      "execution_count": null,
      "outputs": []
    },
    {
      "cell_type": "code",
      "source": [
        "output.shape"
      ],
      "metadata": {
        "colab": {
          "base_uri": "https://localhost:8080/"
        },
        "id": "1Id-9ckv48GV",
        "outputId": "49ef5b96-237f-4434-d5f3-74e48ae411a5"
      },
      "execution_count": null,
      "outputs": [
        {
          "output_type": "execute_result",
          "data": {
            "text/plain": [
              "torch.Size([1, 10, 10])"
            ]
          },
          "metadata": {},
          "execution_count": 73
        }
      ]
    },
    {
      "cell_type": "code",
      "source": [
        "labels_rand = torch.argmax(output, dim=-1)"
      ],
      "metadata": {
        "id": "rDYc7EVP_NHj"
      },
      "execution_count": null,
      "outputs": []
    },
    {
      "cell_type": "code",
      "source": [
        "labels_rand"
      ],
      "metadata": {
        "colab": {
          "base_uri": "https://localhost:8080/"
        },
        "id": "BM-4nomN_Vcf",
        "outputId": "aa7e9227-86d3-445c-ebe4-8891d95ec1a5"
      },
      "execution_count": null,
      "outputs": [
        {
          "output_type": "execute_result",
          "data": {
            "text/plain": [
              "tensor([[9, 5, 3, 3, 0, 4, 1, 8, 4, 7]])"
            ]
          },
          "metadata": {},
          "execution_count": 83
        }
      ]
    },
    {
      "cell_type": "markdown",
      "source": [
        "Final Random Data\n",
        "\n",
        "*Not used Finally*"
      ],
      "metadata": {
        "id": "isrmIY9a5ImM"
      }
    },
    {
      "cell_type": "code",
      "source": [
        "train_random_labels = torch.randint(low = 0, high = 10, size=(1,60000))\n",
        "test_random_labels = torch.randint(low = 0, high = 10, size=(1,10000))"
      ],
      "metadata": {
        "id": "Z3PjWEx9zpON"
      },
      "execution_count": null,
      "outputs": []
    },
    {
      "cell_type": "code",
      "source": [
        "train_random_data = F.one_hot(train_random_labels, num_classes = 10)\n",
        "test_random_data = F.one_hot(test_random_labels, num_classes = 10)"
      ],
      "metadata": {
        "id": "_J6ecq_A7c__"
      },
      "execution_count": null,
      "outputs": []
    },
    {
      "cell_type": "code",
      "source": [
        "train_random_data.shape"
      ],
      "metadata": {
        "colab": {
          "base_uri": "https://localhost:8080/"
        },
        "id": "XIGDKRJHBIXT",
        "outputId": "80ac9cfc-9197-4037-bbdc-e69bbc4502f7"
      },
      "execution_count": null,
      "outputs": [
        {
          "output_type": "execute_result",
          "data": {
            "text/plain": [
              "torch.Size([1, 60000, 10])"
            ]
          },
          "metadata": {},
          "execution_count": 84
        }
      ]
    },
    {
      "cell_type": "markdown",
      "source": [
        "# Dataset Class"
      ],
      "metadata": {
        "id": "1-ma-3IP79Oo"
      }
    },
    {
      "cell_type": "code",
      "source": [
        "import torch.nn as nn\n",
        "from torch.utils.data import Dataset"
      ],
      "metadata": {
        "id": "ulf3VbWCeTFN"
      },
      "execution_count": 12,
      "outputs": []
    },
    {
      "cell_type": "code",
      "source": [
        "class mnist_rand(Dataset):\n",
        "  def __init__(self,image_data):\n",
        "    self.image_data = image_data\n",
        "\n",
        "  def __getitem__(self, index):\n",
        "    rand_no = torch.randint(0, 10, (1,))            #number from 0 to 9\n",
        "    rand_no_one_hot = F.one_hot(rand_no, num_classes=10)    #one hot encoding\n",
        "    return { \"image\": self.image_data[index][0], \n",
        "              \"label_image\": self.image_data[index][1],\n",
        "              \"number\": rand_no_one_hot,\n",
        "              \"label_num\": rand_no }      \n",
        "           #returning encoded data & label\n",
        "\n",
        "  def __len__(self):\n",
        "    return len(self.image_data)"
      ],
      "metadata": {
        "id": "eW4jnbd1w6Vr"
      },
      "execution_count": 14,
      "outputs": []
    },
    {
      "cell_type": "code",
      "source": [
        "train_data = mnist_rand(train_mnist_set)\n",
        "len(train_data)"
      ],
      "metadata": {
        "colab": {
          "base_uri": "https://localhost:8080/"
        },
        "id": "09W0E2ejJjFQ",
        "outputId": "53c58ac1-960d-4f26-e205-55a66e737a0c"
      },
      "execution_count": 15,
      "outputs": [
        {
          "output_type": "execute_result",
          "data": {
            "text/plain": [
              "60000"
            ]
          },
          "metadata": {},
          "execution_count": 15
        }
      ]
    },
    {
      "cell_type": "code",
      "source": [
        "test_data = mnist_rand(test_mnist_set)\n",
        "len(test_data)"
      ],
      "metadata": {
        "colab": {
          "base_uri": "https://localhost:8080/"
        },
        "id": "JvEMZZtGN4bA",
        "outputId": "6da5b391-7fe8-4b7d-fc71-57b6e198312b"
      },
      "execution_count": 16,
      "outputs": [
        {
          "output_type": "execute_result",
          "data": {
            "text/plain": [
              "10000"
            ]
          },
          "metadata": {},
          "execution_count": 16
        }
      ]
    },
    {
      "cell_type": "markdown",
      "source": [
        "# Checking the Class Dataset loader (mnist_rand)"
      ],
      "metadata": {
        "id": "NqQc_Y4sNWhE"
      }
    },
    {
      "cell_type": "code",
      "source": [
        "train_loader_check = torch.utils.data.DataLoader(\n",
        "    train_data, \n",
        "    batch_size = 2, \n",
        "    shuffle=True\n",
        ")"
      ],
      "metadata": {
        "id": "_Gzh0qBmNVl6"
      },
      "execution_count": 17,
      "outputs": []
    },
    {
      "cell_type": "code",
      "source": [
        "for t in train_loader_check:\n",
        "  print(t)\n",
        "\n",
        "  break"
      ],
      "metadata": {
        "colab": {
          "base_uri": "https://localhost:8080/"
        },
        "id": "clLqRfmPOOfk",
        "outputId": "14213f83-3aa0-4a5b-9dac-0b74944c5fd8"
      },
      "execution_count": 18,
      "outputs": [
        {
          "output_type": "stream",
          "name": "stdout",
          "text": [
            "{'image': tensor([[[[0., 0., 0.,  ..., 0., 0., 0.],\n",
            "          [0., 0., 0.,  ..., 0., 0., 0.],\n",
            "          [0., 0., 0.,  ..., 0., 0., 0.],\n",
            "          ...,\n",
            "          [0., 0., 0.,  ..., 0., 0., 0.],\n",
            "          [0., 0., 0.,  ..., 0., 0., 0.],\n",
            "          [0., 0., 0.,  ..., 0., 0., 0.]]],\n",
            "\n",
            "\n",
            "        [[[0., 0., 0.,  ..., 0., 0., 0.],\n",
            "          [0., 0., 0.,  ..., 0., 0., 0.],\n",
            "          [0., 0., 0.,  ..., 0., 0., 0.],\n",
            "          ...,\n",
            "          [0., 0., 0.,  ..., 0., 0., 0.],\n",
            "          [0., 0., 0.,  ..., 0., 0., 0.],\n",
            "          [0., 0., 0.,  ..., 0., 0., 0.]]]]), 'label_image': tensor([0, 0]), 'number': tensor([[[0, 0, 0, 0, 0, 0, 0, 0, 0, 1]],\n",
            "\n",
            "        [[1, 0, 0, 0, 0, 0, 0, 0, 0, 0]]]), 'label_num': tensor([[9],\n",
            "        [0]])}\n"
          ]
        }
      ]
    },
    {
      "cell_type": "markdown",
      "source": [
        "#Defining Network"
      ],
      "metadata": {
        "id": "UXvmkXA5ZrxL"
      }
    },
    {
      "cell_type": "code",
      "source": [
        "class Network(nn.Module):\n",
        "  def __init__(self):\n",
        "    super().__init__()\n",
        "    self.conv1 = nn.Conv2d(in_channels=1, out_channels=32, kernel_size=3)       \n",
        "    self.conv2 = nn.Conv2d(in_channels=32, out_channels=64, kernel_size=3)      \n",
        "    self.conv3 = nn.Conv2d(in_channels=64, out_channels=128, kernel_size=3)     \n",
        "    self.conv4 = nn.Conv2d(in_channels=128, out_channels=256, kernel_size=3)   \n",
        "    self.conv5 = nn.Conv2d(in_channels=256, out_channels=512, kernel_size=3)    \n",
        "    self.conv6 = nn.Conv2d(in_channels=512, out_channels=64, kernel_size=1)\n",
        "    self.conv7 = nn.Conv2d(in_channels=64, out_channels=128, kernel_size=3)   \n",
        "    self.conv8 = nn.Conv2d(in_channels=128, out_channels=256, kernel_size=3)\n",
        "    self.conv9 = nn.Conv2d(in_channels=256, out_channels=512, kernel_size=3)    \n",
        "    self.fc1 = nn.Linear(in_features=512 * 3 * 3, out_features=60)\n",
        "    self.out = nn.Linear(in_features=60, out_features=10)\n",
        "    self.fc2 = nn.Linear(in_features=20, out_features=60)\n",
        "    self.out2 = nn.Linear(in_features=60, out_features=19)\n",
        "    \n",
        "  def forward(self, t1, t2):          #input has 2 dataset\n",
        "    # input layer\n",
        "    x1 = t1\n",
        "    # conv block 1\n",
        "    x1 = self.conv1(x1) # 28 -> 26 RF 3 In_Ch: 1  Out_Ch: 32\n",
        "    x1 = F.relu(x1)\n",
        "    x1 = self.conv2(x1) # 26 -> 24 RF 5 In_Ch: 32 Out_Ch: 64\n",
        "    x1 = F.relu(x1)\n",
        "    x1 = self.conv3(x1) # 24 -> 22 RF 7  In_Ch: 64 Out_Ch: 128\n",
        "    x1 = F.relu(x1)\n",
        "    x1 = self.conv4(x1) # 22 -> 20 RF 9  In_Ch: 128 Out_Ch: 256\n",
        "    x1 = F.relu(x1)\n",
        "    x1 = self.conv5(x1) # 20 -> 18 RF 11  In_Ch: 256 Out_Ch: 512\n",
        "    x1 = F.relu(x1)\n",
        "    #Transition Block\n",
        "    x1 = F.max_pool2d(x1, kernel_size=2, stride=2) # 18 -> 9 Out_Ch: 512\n",
        "    x1 = self.conv6(x1) # 9 -> 9 RF 22 In_Ch: 512 Out_Ch: 64\n",
        "    x1 = F.relu(x1)\n",
        "    # conv block 2\n",
        "    x1 = self.conv7(x1) # 9 > 7 RF 24   In_Ch: 64 Out_Ch: 128\n",
        "    x1 = F.relu(x1)\n",
        "    x1 = self.conv8(x1) # 7 > 5 RF 26   In_Ch: 128 Out_Ch: 256\n",
        "    x1 = F.relu(x1)\n",
        "    x1 = self.conv9(x1) # 5 > 3 RF 28   In_Ch: 256 Out_Ch: 512\n",
        "    x1 = F.relu(x1)\n",
        "    # reshape\n",
        "    x1 = x1.reshape(-1, 512*3*3)            #512 Channel & 3x3 output\n",
        "    # fc1 layer\n",
        "    x1 = self.fc1(x1)                 #FC Layer Output: 60\n",
        "    x1 = F.relu(x1)\n",
        "    # output layer for MNIST\n",
        "    x1 = self.out(x1)                 #FC Layer Output: 10 (same as MNIST Classes)\n",
        "    \n",
        "    #predict class to be used as Input for SUM; one hot encoding for predicted number\n",
        "    pred_mnist = F.one_hot(torch.argmax(x1,dim=1), num_classes=10)\n",
        "    #concatenate first output & second input\n",
        "    x2 = torch.cat((pred_mnist,t2), dim=1)  #concatenate second input t2 & predicted class of t1\n",
        "    x2 = x2.to(torch.float32)               #change dtype to allow data to pass to FC2\n",
        "    x2 = self.fc2(x2)                       #Passing to FC layer input 20 & Output: 60\n",
        "    x2 = F.relu(x2)\n",
        "    # output layer for SUM\n",
        "    x2 = self.out2(x2)                      #Out layer for second input 60 & output: 19 (sum 0 to 18)\n",
        "    return x1, x2                           #return both output"
      ],
      "metadata": {
        "id": "XpDZcfuuesgK"
      },
      "execution_count": 30,
      "outputs": []
    },
    {
      "cell_type": "markdown",
      "source": [
        "#Network 1 Checking"
      ],
      "metadata": {
        "id": "Y7gadFyPGN6O"
      }
    },
    {
      "cell_type": "code",
      "source": [
        "network = Network()\n",
        "network.to(device)"
      ],
      "metadata": {
        "colab": {
          "base_uri": "https://localhost:8080/"
        },
        "id": "hVQdjsXQf16w",
        "outputId": "6cb32c79-7ba7-48f5-bade-20a15e0e3efc"
      },
      "execution_count": 20,
      "outputs": [
        {
          "output_type": "execute_result",
          "data": {
            "text/plain": [
              "Network(\n",
              "  (conv1): Conv2d(1, 32, kernel_size=(3, 3), stride=(1, 1))\n",
              "  (conv2): Conv2d(32, 64, kernel_size=(3, 3), stride=(1, 1))\n",
              "  (conv3): Conv2d(64, 128, kernel_size=(3, 3), stride=(1, 1))\n",
              "  (conv4): Conv2d(128, 256, kernel_size=(3, 3), stride=(1, 1))\n",
              "  (conv5): Conv2d(256, 512, kernel_size=(3, 3), stride=(1, 1))\n",
              "  (conv6): Conv2d(512, 64, kernel_size=(1, 1), stride=(1, 1))\n",
              "  (conv7): Conv2d(64, 128, kernel_size=(3, 3), stride=(1, 1))\n",
              "  (conv8): Conv2d(128, 256, kernel_size=(3, 3), stride=(1, 1))\n",
              "  (conv9): Conv2d(256, 512, kernel_size=(3, 3), stride=(1, 1))\n",
              "  (fc1): Linear(in_features=4608, out_features=60, bias=True)\n",
              "  (out): Linear(in_features=60, out_features=10, bias=True)\n",
              "  (fc2): Linear(in_features=20, out_features=60, bias=True)\n",
              "  (out2): Linear(in_features=60, out_features=19, bias=True)\n",
              ")"
            ]
          },
          "metadata": {},
          "execution_count": 20
        }
      ]
    },
    {
      "cell_type": "markdown",
      "source": [
        "#Get Correct predictions"
      ],
      "metadata": {
        "id": "_68STx5IccG6"
      }
    },
    {
      "cell_type": "code",
      "source": [
        "def get_correct(preds, labels):\n",
        "  return preds.argmax(dim=1).eq(labels).sum().item()"
      ],
      "metadata": {
        "id": "gmvlLc_zcdGV"
      },
      "execution_count": 21,
      "outputs": []
    },
    {
      "cell_type": "markdown",
      "source": [
        "#Defining train & test loader batch size 64"
      ],
      "metadata": {
        "id": "l3perkk_Zv8m"
      }
    },
    {
      "cell_type": "code",
      "source": [
        "#batch size as 64\n",
        "train_loader_rand = torch.utils.data.DataLoader(\n",
        "    train_data, \n",
        "    batch_size=64,\n",
        "    shuffle=True\n",
        ")\n",
        "test_loader_rand = torch.utils.data.DataLoader(\n",
        "    test_data, \n",
        "    batch_size = 64, \n",
        "    shuffle=True\n",
        ")"
      ],
      "metadata": {
        "id": "bvluNcneZcHe"
      },
      "execution_count": 22,
      "outputs": []
    },
    {
      "cell_type": "markdown",
      "source": [
        "#Checking Network"
      ],
      "metadata": {
        "id": "Fahp0QigO0zp"
      }
    },
    {
      "cell_type": "code",
      "source": [
        "optimizer = optim.Adam(network.parameters(), lr=0.001)\n",
        "\n",
        "total_loss_mnist = 0\n",
        "total_correct_mnist = 0\n",
        "total_loss_sum = 0\n",
        "total_correct_sum = 0\n",
        "i=0\n",
        "for batch in train_loader_rand: \n",
        "    images = batch['image'].to(device)                    #push data to GPU if available\n",
        "    labels_mnist = batch['label_image'].to(device) \n",
        "    num = batch['number'].to(device)\n",
        "    # print('Num Shape',num.squeeze(1))\n",
        "    labels_num = batch['label_num'].reshape(1,-1)\n",
        "    labels_num= labels_num.to(device)\n",
        "    preds_mnist, preds_sum = network(images,num.squeeze(1))      # Pass data to Network\n",
        "    labels_sum = labels_mnist + labels_num              #creating labels for Sum\n",
        "    labels_sum = labels_sum.to(device)\n",
        "    loss_mnist = F.cross_entropy(preds_mnist, labels_mnist) # Calculate Loss for MNIST\n",
        "    loss_sum = F.cross_entropy(preds_sum, labels_sum.reshape(-1)) # Calculate Loss for Sum \n",
        "\n",
        "    loss = loss_mnist + loss_sum    #Total loss\n",
        "    optimizer.zero_grad()             \n",
        "    loss.backward()\n",
        "    optimizer.step() # Update Weights\n",
        "\n",
        "    #calculating loss and correct prediction\n",
        "    total_loss_mnist += loss_mnist.item()\n",
        "    total_correct_mnist += get_correct(preds_mnist, labels_mnist)\n",
        "    total_loss_sum += loss_sum.item()\n",
        "    total_correct_sum += get_correct(preds_sum, labels_sum)\n",
        "\n",
        "    print(\n",
        "        \"step:\", i, \n",
        "        \"tot_corr MNIST %:\", total_correct_mnist / len(images) *100, \n",
        "        \"loss MNIST:\", total_loss_mnist,\n",
        "        \"tot_corr Sum %:\", total_correct_sum / len(images) *100, \n",
        "        \"loss Sum:\", total_loss_sum    \n",
        "    )\n",
        "    i+=1\n",
        "    break"
      ],
      "metadata": {
        "colab": {
          "base_uri": "https://localhost:8080/"
        },
        "id": "APQewJUwaRX6",
        "outputId": "75072278-22ff-463b-c9e7-8a1f5ad59f2a"
      },
      "execution_count": 26,
      "outputs": [
        {
          "output_type": "stream",
          "name": "stdout",
          "text": [
            "here 0  torch.Size([64, 1, 28, 28])\n",
            "here 1  torch.Size([64, 32, 26, 26])\n",
            "here 2  torch.Size([64, 64, 24, 24])\n",
            "here 3  torch.Size([64, 128, 22, 22])\n",
            "here 4  torch.Size([64, 512, 18, 18])\n",
            "here 5  torch.Size([64, 512, 9, 9])\n",
            "here 6  torch.Size([64, 64, 9, 9])\n",
            "here 7  torch.Size([64, 128, 7, 7])\n",
            "here 8  torch.Size([64, 256, 5, 5])\n",
            "here 9  torch.Size([64, 512, 3, 3])\n",
            "here 10 torch.Size([64, 4608])\n",
            "here 11  torch.Size([64, 60])\n",
            "here 12  torch.Size([64, 10])\n",
            "Pred MNIST  torch.Size([64, 10])\n",
            "Pred t2  torch.Size([64, 10])\n",
            "step: 0 tot_corr MNIST %: 3.125 loss MNIST: 2.318002223968506 tot_corr Sum %: 9.375 loss Sum: 2.9318084716796875\n"
          ]
        }
      ]
    },
    {
      "cell_type": "markdown",
      "source": [
        "#Final Run on Network post all checking"
      ],
      "metadata": {
        "id": "f_OgzSHFOsk4"
      }
    },
    {
      "cell_type": "markdown",
      "source": [
        "Initializing Network"
      ],
      "metadata": {
        "id": "Be6OHADtYnF8"
      }
    },
    {
      "cell_type": "code",
      "source": [
        "network = Network()\n",
        "network.to(device)"
      ],
      "metadata": {
        "colab": {
          "base_uri": "https://localhost:8080/"
        },
        "id": "yiAAmXJ4jOC5",
        "outputId": "fa75e1d4-24a1-457b-ff63-2937ce032949"
      },
      "execution_count": 31,
      "outputs": [
        {
          "output_type": "execute_result",
          "data": {
            "text/plain": [
              "Network(\n",
              "  (conv1): Conv2d(1, 32, kernel_size=(3, 3), stride=(1, 1))\n",
              "  (conv2): Conv2d(32, 64, kernel_size=(3, 3), stride=(1, 1))\n",
              "  (conv3): Conv2d(64, 128, kernel_size=(3, 3), stride=(1, 1))\n",
              "  (conv4): Conv2d(128, 256, kernel_size=(3, 3), stride=(1, 1))\n",
              "  (conv5): Conv2d(256, 512, kernel_size=(3, 3), stride=(1, 1))\n",
              "  (conv6): Conv2d(512, 64, kernel_size=(1, 1), stride=(1, 1))\n",
              "  (conv7): Conv2d(64, 128, kernel_size=(3, 3), stride=(1, 1))\n",
              "  (conv8): Conv2d(128, 256, kernel_size=(3, 3), stride=(1, 1))\n",
              "  (conv9): Conv2d(256, 512, kernel_size=(3, 3), stride=(1, 1))\n",
              "  (fc1): Linear(in_features=4608, out_features=60, bias=True)\n",
              "  (out): Linear(in_features=60, out_features=10, bias=True)\n",
              "  (fc2): Linear(in_features=20, out_features=60, bias=True)\n",
              "  (out2): Linear(in_features=60, out_features=19, bias=True)\n",
              ")"
            ]
          },
          "metadata": {},
          "execution_count": 31
        }
      ]
    },
    {
      "cell_type": "markdown",
      "source": [
        "Defining Train and Test Loader"
      ],
      "metadata": {
        "id": "USuJ0kzfYqo9"
      }
    },
    {
      "cell_type": "code",
      "source": [
        "#batch size as 64\n",
        "train_loader_rand = torch.utils.data.DataLoader(\n",
        "    train_data, \n",
        "    batch_size=64,\n",
        "    shuffle=True\n",
        ")\n",
        "test_loader_rand = torch.utils.data.DataLoader(\n",
        "    test_data, \n",
        "    batch_size = 64, \n",
        "    shuffle=True\n",
        ")"
      ],
      "metadata": {
        "id": "qWzeM6P8jMEJ"
      },
      "execution_count": 32,
      "outputs": []
    },
    {
      "cell_type": "markdown",
      "source": [
        "Model Training Code"
      ],
      "metadata": {
        "id": "lbCfzsJsY01Y"
      }
    },
    {
      "cell_type": "code",
      "source": [
        "optimizer = optim.Adam(network.parameters(), lr=0.001)\n",
        "\n",
        "for epoch in range(10):\n",
        "    total_loss_mnist = 0\n",
        "    total_correct_mnist = 0\n",
        "    total_loss_sum = 0\n",
        "    total_correct_sum = 0\n",
        "\n",
        "    for batch in train_loader_rand: \n",
        "      images = batch['image'].to(device)                    #push data to GPU\n",
        "      labels_mnist = batch['label_image'].to(device) \n",
        "      num = batch['number'].to(device)\n",
        "      labels_num = batch['label_num'].reshape(1,-1)\n",
        "      labels_num= labels_num.to(device)\n",
        "      preds_mnist, preds_sum = network(images,num.squeeze(1))      # Pass data to Network\n",
        "      labels_sum = labels_mnist + labels_num              #creating labels for Sum\n",
        "      labels_sum = labels_sum.to(device)\n",
        "      loss_mnist = F.cross_entropy(preds_mnist, labels_mnist) # Calculate Loss for MNIST\n",
        "      loss_sum = F.cross_entropy(preds_sum, labels_sum.reshape(-1)) # Calculate Loss for Sum \n",
        "\n",
        "      loss = loss_mnist + loss_sum    #Total loss\n",
        "      optimizer.zero_grad()             \n",
        "      loss.backward()\n",
        "      optimizer.step() # Update Weights\n",
        "\n",
        "      #calculating loss and correct prediction\n",
        "      total_loss_mnist += loss_mnist.item()\n",
        "      total_correct_mnist += get_correct(preds_mnist, labels_mnist)\n",
        "      total_loss_sum += loss_sum.item()\n",
        "      total_correct_sum += get_correct(preds_sum, labels_sum)\n",
        "\n",
        "    print(\n",
        "        \"epoch:\", epoch+1, \n",
        "        \"Train tot_corr MNIST %:\", total_correct_mnist / len(train_data) *100, \n",
        "        \"Train loss MNIST:\", total_loss_mnist,\n",
        "        \"Train tot_corr Sum %:\", total_correct_sum / len(train_data) *100, \n",
        "        \"Train loss Sum:\", total_loss_sum    \n",
        "    )"
      ],
      "metadata": {
        "colab": {
          "base_uri": "https://localhost:8080/"
        },
        "id": "ZsECVxAUibzz",
        "outputId": "41551a52-c246-4e5a-91ea-6e6175947901"
      },
      "execution_count": 33,
      "outputs": [
        {
          "output_type": "stream",
          "name": "stdout",
          "text": [
            "epoch: 1 Train tot_corr MNIST %: 88.26166666666667 Train loss MNIST: 320.3550047716126 Train tot_corr Sum %: 63.30166666666667 Train loss Sum: 1564.0195602476597\n",
            "epoch: 2 Train tot_corr MNIST %: 98.09333333333333 Train loss MNIST: 61.82956232584547 Train tot_corr Sum %: 98.09333333333333 Train loss Sum: 286.855624563992\n",
            "epoch: 3 Train tot_corr MNIST %: 98.50833333333333 Train loss MNIST: 45.970023427245906 Train tot_corr Sum %: 98.50833333333333 Train loss Sum: 143.2396039813757\n",
            "epoch: 4 Train tot_corr MNIST %: 98.71666666666667 Train loss MNIST: 37.453331277065445 Train tot_corr Sum %: 98.71666666666667 Train loss Sum: 112.04190501756966\n",
            "epoch: 5 Train tot_corr MNIST %: 99.02166666666666 Train loss MNIST: 30.813055960032216 Train tot_corr Sum %: 99.02166666666666 Train loss Sum: 83.42545540165156\n",
            "epoch: 6 Train tot_corr MNIST %: 99.23333333333333 Train loss MNIST: 24.193896213340622 Train tot_corr Sum %: 99.23333333333333 Train loss Sum: 67.12655450124294\n",
            "epoch: 7 Train tot_corr MNIST %: 99.27833333333334 Train loss MNIST: 21.130836958647706 Train tot_corr Sum %: 99.27833333333334 Train loss Sum: 61.584136705845594\n",
            "epoch: 8 Train tot_corr MNIST %: 99.35166666666667 Train loss MNIST: 20.82187266780238 Train tot_corr Sum %: 99.35166666666667 Train loss Sum: 54.37454088451341\n",
            "epoch: 9 Train tot_corr MNIST %: 99.47166666666666 Train loss MNIST: 15.92369752004197 Train tot_corr Sum %: 99.47166666666666 Train loss Sum: 46.41483932407573\n",
            "epoch: 10 Train tot_corr MNIST %: 99.49 Train loss MNIST: 14.629894474072898 Train tot_corr Sum %: 99.49 Train loss Sum: 44.26551981875673\n"
          ]
        }
      ]
    },
    {
      "cell_type": "markdown",
      "source": [
        "# Save Model"
      ],
      "metadata": {
        "id": "Z1P2hFrWRRUt"
      }
    },
    {
      "cell_type": "code",
      "source": [
        "torch.save(network.state_dict(), \"/content/drive/MyDrive/EVA8/MNIST_Rand/network1_10_epoch.pt\")"
      ],
      "metadata": {
        "id": "9arGIlFPm2Po"
      },
      "execution_count": 36,
      "outputs": []
    },
    {
      "cell_type": "markdown",
      "source": [
        "#Inference on Test Set"
      ],
      "metadata": {
        "id": "oSINHPyaZVZU"
      }
    },
    {
      "cell_type": "markdown",
      "source": [
        "Loading Model"
      ],
      "metadata": {
        "id": "VBnI25GDZp7Y"
      }
    },
    {
      "cell_type": "code",
      "source": [
        "model = Network()\n",
        "model.load_state_dict(torch.load(\"/content/drive/MyDrive/EVA8/MNIST_Rand/network1_10_epoch.pt\"))\n",
        "model.eval()"
      ],
      "metadata": {
        "colab": {
          "base_uri": "https://localhost:8080/"
        },
        "id": "NH7SrAHkRQ6j",
        "outputId": "8ee917f1-9187-45e2-86ca-b967dee4d98a"
      },
      "execution_count": 37,
      "outputs": [
        {
          "output_type": "execute_result",
          "data": {
            "text/plain": [
              "Network(\n",
              "  (conv1): Conv2d(1, 32, kernel_size=(3, 3), stride=(1, 1))\n",
              "  (conv2): Conv2d(32, 64, kernel_size=(3, 3), stride=(1, 1))\n",
              "  (conv3): Conv2d(64, 128, kernel_size=(3, 3), stride=(1, 1))\n",
              "  (conv4): Conv2d(128, 256, kernel_size=(3, 3), stride=(1, 1))\n",
              "  (conv5): Conv2d(256, 512, kernel_size=(3, 3), stride=(1, 1))\n",
              "  (conv6): Conv2d(512, 64, kernel_size=(1, 1), stride=(1, 1))\n",
              "  (conv7): Conv2d(64, 128, kernel_size=(3, 3), stride=(1, 1))\n",
              "  (conv8): Conv2d(128, 256, kernel_size=(3, 3), stride=(1, 1))\n",
              "  (conv9): Conv2d(256, 512, kernel_size=(3, 3), stride=(1, 1))\n",
              "  (fc1): Linear(in_features=4608, out_features=60, bias=True)\n",
              "  (out): Linear(in_features=60, out_features=10, bias=True)\n",
              "  (fc2): Linear(in_features=20, out_features=60, bias=True)\n",
              "  (out2): Linear(in_features=60, out_features=19, bias=True)\n",
              ")"
            ]
          },
          "metadata": {},
          "execution_count": 37
        }
      ]
    },
    {
      "cell_type": "markdown",
      "source": [
        "Using model in cuda"
      ],
      "metadata": {
        "id": "dtOjsVJOjQhG"
      }
    },
    {
      "cell_type": "code",
      "source": [
        "model.cuda()"
      ],
      "metadata": {
        "id": "ZC5HWnF0hPlf"
      },
      "execution_count": null,
      "outputs": []
    },
    {
      "cell_type": "markdown",
      "source": [
        "Calculating model Accuracy on Test Set"
      ],
      "metadata": {
        "id": "3So_xaF2jWCZ"
      }
    },
    {
      "cell_type": "code",
      "source": [
        "test_correct_mnist = 0\n",
        "test_correct_sum = 0\n",
        "test_acc_mnist = 0.0\n",
        "test_acc_sum = 0.0\n",
        "for batch in test_loader_rand:\n",
        "    with torch.no_grad():\n",
        "        images = batch['image'].to(device)                    #push data to GPU\n",
        "        labels_mnist = batch['label_image'].to(device) \n",
        "        num = batch['number'].to(device)\n",
        "        labels_num = batch['label_num'].reshape(1,-1)\n",
        "        labels_num= labels_num.to(device)\n",
        "        preds_mnist, preds_sum = model(images,num.squeeze(1))\n",
        "        # calculate accuracy\n",
        "        labels_sum = labels_mnist + labels_num              #creating labels for Sum\n",
        "        labels_sum = labels_sum.to(device)\n",
        "        test_correct_mnist += get_correct(preds_mnist, labels_mnist)\n",
        "        test_correct_sum += get_correct(preds_sum, labels_sum)\n",
        "\n",
        "print(\n",
        "  \"Test tot_corr MNIST %:\", test_correct_mnist / len(test_data) *100, \n",
        "  \"Test tot_corr Sum %:\", test_correct_sum / len(test_data) *100, \n",
        ")"
      ],
      "metadata": {
        "colab": {
          "base_uri": "https://localhost:8080/"
        },
        "id": "b3tuktgccL3c",
        "outputId": "82c4cf01-366c-4db6-ea90-51a797df693c"
      },
      "execution_count": 53,
      "outputs": [
        {
          "output_type": "stream",
          "name": "stdout",
          "text": [
            "Test tot_corr MNIST %: 99.03999999999999 Test tot_corr Sum %: 99.03999999999999\n"
          ]
        }
      ]
    }
  ]
}